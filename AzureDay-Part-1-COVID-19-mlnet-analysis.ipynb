{
 "cells": [
  {
   "cell_type": "markdown",
   "metadata": {},
   "source": [
    "#  AzureDay - Part-1: COVID-19 Data Analysis using .Net DataFrame API"
   ]
  },
  {
   "cell_type": "markdown",
   "metadata": {},
   "source": [
    "### Dataset\n",
    "\n",
    "- [2019 Novel Coronavirus COVID-19 (2019-nCoV) Data Repository by Johns Hopkins CSSE - Daily reports](https://github.com/CSSEGISandData/COVID-19/raw/master/csse_covid_19_data/csse_covid_19_daily_reports)."
   ]
  },
  {
   "cell_type": "markdown",
   "metadata": {},
   "source": [
    "### Introduction \n",
    "\n",
    "[**DataFrame**](https://devblogs.microsoft.com/dotnet/an-introduction-to-dataframe/): DataFrame is a new type introduced in .Net. It is similar to DataFrame in Python which is used to manipulate data in notebooks. It's a collection of columns containing data similar to a table and very helpful in analyzing tabular data. It works flawlessly without creating types/classes mapped to columns in a table which we used to do with [ML.Net](https://dotnet.microsoft.com/apps/machinelearning-ai/ml-dotnet). It has support for GroupBy, Sort, Filter which makes analysis very handy. It's a in-memory representation of structured data.\n",
    "\n",
    "In this tutorial we'll cover below features\n",
    "- Load a CSV\n",
    "- Metada\n",
    "    - Description\n",
    "    - Info\n",
    "- Display records\n",
    "    - Head\n",
    "    - Sample\n",
    "    - \n",
    "- Filtering\n",
    "- Grouping\n",
    "- Aggregate\n",
    "\n",
    "For overview, please refer below links\n",
    "- [An Introduction to DataFrame](https://devblogs.microsoft.com/dotnet/an-introduction-to-dataframe/)\n",
    "- [Exploring the C# Dataframe API](https://www.youtube.com/watch?v=FI3VxXClJ7Y)\n",
    "\n"
   ]
  },
  {
   "cell_type": "markdown",
   "metadata": {},
   "source": [
    "### Summary\n",
    "\n",
    "Below is the summary of steps we'll be performing\n",
    "\n",
    "1. Define application level items\n",
    "    - Nuget packages\n",
    "    - Namespaces\n",
    "    - Constants\n",
    "     \n",
    "2. Utility Functions\n",
    "    - Formatters    \n",
    "\n",
    "3. Load Dataset\n",
    "    - Download Dataset from [Johns Hopkins CSSE](https://github.com/CSSEGISandData/COVID-19/raw/master/csse_covid_19_data)\n",
    "    - Load dataset in DataFrame\n",
    "    \n",
    "4. Analyse Data\n",
    "    - Date Range\n",
    "    - Display Datset - display(dataframe)\n",
    "    - Display Top 5 Rows - dataframe.Head(5)\n",
    "    - Display Random 6 Rows - dataframe.Sample(6)    \n",
    "    - Display Dataset Statistics - dataframe.Description()\n",
    "    - Display Dataset type information - dataframe.Info()\n",
    "\n",
    "5. Data Cleaning\n",
    "    - Remove Invalid cases\n",
    "\n",
    "6. Data Visualization\n",
    "    - Global\n",
    "        - Confirmed Vs Deaths Vs Recovered\n",
    "        - Top 5 Countries with Confirmed cases\n",
    "        - Top 5 Countries with Death cases\n",
    "        - Top 5 Countries with Recovered cases\n",
    "    - Italy\n",
    "        - Confirmed Vs Deaths Vs Recovered\n",
    "        \n",
    "**Note** : Graphs/Plots may not render in GitHub due to secutiry reasons, however if you run this notebook locally/binder they will render."
   ]
  },
  {
   "cell_type": "markdown",
   "metadata": {},
   "source": [
    "### 1. Define Application wide Items"
   ]
  },
  {
   "cell_type": "markdown",
   "metadata": {},
   "source": [
    "#### Nuget Packages\n"
   ]
  },
  {
   "cell_type": "code",
   "execution_count": 1,
   "metadata": {},
   "outputs": [
    {
     "data": {
      "text/html": [
       "Installing package Microsoft.ML...................done!"
      ]
     },
     "metadata": {},
     "output_type": "display_data"
    },
    {
     "data": {
      "text/html": [
       "Successfully added reference to package Microsoft.ML, version 1.5.1"
      ]
     },
     "metadata": {},
     "output_type": "display_data"
    },
    {
     "data": {
      "text/html": [
       "Installing package Microsoft.Data.Analysis......done!"
      ]
     },
     "metadata": {},
     "output_type": "display_data"
    },
    {
     "data": {
      "text/html": [
       "Successfully added reference to package Microsoft.Data.Analysis, version 0.4.0"
      ]
     },
     "metadata": {},
     "output_type": "display_data"
    },
    {
     "data": {
      "text/html": [
       "Installing package XPlot.Plotly......done!"
      ]
     },
     "metadata": {},
     "output_type": "display_data"
    },
    {
     "data": {
      "text/html": [
       "Successfully added reference to package XPlot.Plotly, version 3.0.1"
      ]
     },
     "metadata": {},
     "output_type": "display_data"
    },
    {
     "data": {
      "text/html": [
       "Installing package CsvHelper......done!"
      ]
     },
     "metadata": {},
     "output_type": "display_data"
    },
    {
     "data": {
      "text/html": [
       "Successfully added reference to package CsvHelper, version 15.0.5"
      ]
     },
     "metadata": {},
     "output_type": "display_data"
    }
   ],
   "source": [
    "// ML.NET Nuget packages installation\n",
    "#r \"nuget:Microsoft.ML\"\n",
    "#r \"nuget:Microsoft.Data.Analysis\"\n",
    "\n",
    "// Install XPlot package\n",
    "#r \"nuget:XPlot.Plotly\"\n",
    "    \n",
    "// CSV Helper Package for reading CSV\n",
    "#r \"nuget:CsvHelper\""
   ]
  },
  {
   "cell_type": "markdown",
   "metadata": {},
   "source": [
    "#### Namespaces"
   ]
  },
  {
   "cell_type": "code",
   "execution_count": 2,
   "metadata": {},
   "outputs": [],
   "source": [
    "using Microsoft.ML;\n",
    "using Microsoft.ML.Data;\n",
    "using Microsoft.Data.Analysis;\n",
    "using Microsoft.AspNetCore.Html;\n",
    "using System.IO;\n",
    "using System.Net.Http;\n",
    "using System.Globalization;\n",
    "using CsvHelper;\n",
    "using CsvHelper.Configuration;\n",
    "using XPlot.Plotly;"
   ]
  },
  {
   "cell_type": "markdown",
   "metadata": {},
   "source": [
    "#### Constants"
   ]
  },
  {
   "cell_type": "code",
   "execution_count": 11,
   "metadata": {},
   "outputs": [],
   "source": [
    "// Column Names\n",
    "const string FIPS = \"FIPS\";\n",
    "const string ADMIN = \"Admin2\";\n",
    "const string STATE = \"Province_State\";\n",
    "const string COUNTRY = \"Country_Region\";\n",
    "const string LAST_UPDATE = \"Last_Update\";\n",
    "const string LATITUDE = \"Lat\";\n",
    "const string LONGITUDE = \"Long_\";\n",
    "const string CONFIRMED = \"Confirmed\";\n",
    "const string DEATHS = \"Deaths\";\n",
    "const string RECOVERED = \"Recovered\";\n",
    "const string ACTIVE = \"Active\";\n",
    "const string COMBINED_KEY = \"Combined_Key\";\n",
    "\n",
    "// File\n",
    "const string DATASET_FILE = \"07-13-2020\";\n",
    "const string FILE_EXTENSION = \".csv\";\n",
    "const string NEW_FILE_SUFFIX = \"_new\";\n",
    "const char SEPARATOR = ',';\n",
    "const char SEPARATOR_REPLACEMENT = '_';\n",
    "const string DATASET_GITHUB_DIRECTORY = \"https://raw.githubusercontent.com/CSSEGISandData/COVID-19/master/csse_covid_19_data/csse_covid_19_daily_reports/\";\n",
    "\n",
    "// DataFrame/Table\n",
    "const int TOP_COUNT = 5;\n",
    "const int DEFAULT_ROW_COUNT = 10;\n",
    "const string VALUES = \"Values\";\n",
    "const string ITALY = \"Italy\";"
   ]
  },
  {
   "cell_type": "markdown",
   "metadata": {},
   "source": [
    "### 2. Utility Functions"
   ]
  },
  {
   "cell_type": "markdown",
   "metadata": {},
   "source": [
    "#### Formatters\n",
    "\n",
    "By default the output of DataFrame is not proper and in order to display it as a table, we need to have a custom formatter implemented as shown in next cell. "
   ]
  },
  {
   "cell_type": "code",
   "execution_count": 12,
   "metadata": {},
   "outputs": [],
   "source": [
    "// Formats the table\n",
    "\n",
    "Formatter<DataFrame>.Register((df, writer) =>\n",
    "{\n",
    "    var headers = new List<IHtmlContent>();\n",
    "    headers.Add(th(i(\"index\")));\n",
    "    headers.AddRange(df.Columns.Select(c => (IHtmlContent) th(c.Name)));\n",
    "    var rows = new List<List<IHtmlContent>>();\n",
    "    var take = DEFAULT_ROW_COUNT;\n",
    "    for (var i = 0; i < Math.Min(take, df.Rows.Count); i++)\n",
    "    {\n",
    "        var cells = new List<IHtmlContent>();\n",
    "        cells.Add(td(i));\n",
    "        foreach (var obj in df.Rows[i])\n",
    "        {\n",
    "            cells.Add(td(obj));\n",
    "        }\n",
    "        rows.Add(cells);\n",
    "    }\n",
    "\n",
    "    var t = table(\n",
    "        thead(\n",
    "            headers),\n",
    "        tbody(\n",
    "            rows.Select(\n",
    "                r => tr(r))));\n",
    "\n",
    "    writer.Write(t);\n",
    "}, \"text/html\");"
   ]
  },
  {
   "cell_type": "markdown",
   "metadata": {},
   "source": [
    "#### Copy dataset csv and replace Separator in cells"
   ]
  },
  {
   "cell_type": "code",
   "execution_count": 13,
   "metadata": {},
   "outputs": [],
   "source": [
    "// Replace a characeter in a cell of csv with a defined separator\n",
    "private void CreateCsvAndReplaceSeparatorInCells(string inputFile, string outputFile, char separator, char separatorReplacement)\n",
    "{\n",
    "    var culture = CultureInfo.InvariantCulture;\n",
    "    using var reader = new StreamReader(inputFile);\n",
    "    using var csvIn = new CsvReader(reader, new CsvConfiguration(culture));\n",
    "    using var recordsIn = new CsvDataReader(csvIn);\n",
    "    using var writer = new StreamWriter(outputFile);\n",
    "    using var outCsv = new CsvWriter(writer, culture);\n",
    "\n",
    "    // Write Header\n",
    "    csvIn.ReadHeader();\n",
    "    var headers = csvIn.Context.HeaderRecord;\n",
    "    foreach (var header in headers)\n",
    "    {\n",
    "        outCsv.WriteField(header.Replace(separator, separatorReplacement));\n",
    "    }\n",
    "    outCsv.NextRecord();\n",
    "\n",
    "    // Write rows\n",
    "    while (recordsIn.Read())\n",
    "    {\n",
    "        var columns = recordsIn.FieldCount;\n",
    "        for (var index = 0; index < columns; index++)\n",
    "        {\n",
    "            var cellValue = recordsIn.GetString(index);\n",
    "            outCsv.WriteField(cellValue.Replace(separator, separatorReplacement));\n",
    "        }\n",
    "        outCsv.NextRecord();\n",
    "    }\n",
    "}"
   ]
  },
  {
   "cell_type": "markdown",
   "metadata": {},
   "source": [
    "### 3. Load Dataset"
   ]
  },
  {
   "cell_type": "markdown",
   "metadata": {},
   "source": [
    "#### Download Dataset from [Johns Hopkins CSSE](https://github.com/CSSEGISandData/COVID-19/raw/master/csse_covid_19_data)\n",
    "\n",
    "We'll be using COVID-19 dataset from [Johns Hopkins CSSE](https://github.com/CSSEGISandData/COVID-19/raw/master/csse_covid_19_data). The **csse_covid_19_data directory** has .csv file for each day and we'll be performing analysis on latest file present. Latest file present at the time of last modification of this notebook was **06-10-2020.csv**. If you wish to use a different file, update **DATASET_FILE** constant in Constants cell above.\n",
    "\n",
    "We'll download file to current directory."
   ]
  },
  {
   "cell_type": "code",
   "execution_count": 15,
   "metadata": {},
   "outputs": [],
   "source": [
    "// Download csv from github\n",
    "var originalFileName = $\"{DATASET_FILE}{FILE_EXTENSION}\";\n",
    "if (!File.Exists(originalFileName))\n",
    "{\n",
    "    var remoteFilePath = $\"{DATASET_GITHUB_DIRECTORY}/{originalFileName}\";\n",
    "    display(remoteFilePath);\n",
    "    var contents = new HttpClient()\n",
    "        .GetStringAsync(remoteFilePath).Result;\n",
    "        \n",
    "    File.WriteAllText(originalFileName, contents);\n",
    "}"
   ]
  },
  {
   "cell_type": "markdown",
   "metadata": {},
   "source": [
    "#### Load dataset in DataFrame\n",
    "\n",
    "**Issue**: We can load csv using LoadCsv(..) method of DataFrame. However, there is an [issue](https://github.com/dotnet/corefxlab/issues/2787) of not allowing quotes and separator(comma in this case) in a cell value. \n",
    "The dataset, we are using has both of them and LoadCsv fails for it. \n",
    "As a workaround, we'll use CSVHelper to read the csv file and replace command separator with underscore, save the file and use it to load in DataFrame LoadCsv(..) method.\n",
    "\n",
    "<img src=\".\\assets\\invalid-characters.png\" alt=\"Invalid Character\" style=\"zoom: 80%;\" />"
   ]
  },
  {
   "cell_type": "code",
   "execution_count": 16,
   "metadata": {},
   "outputs": [
    {
     "data": {
      "text/plain": [
       "07-13-2020_new.csv"
      ]
     },
     "metadata": {},
     "output_type": "display_data"
    }
   ],
   "source": [
    "// Load and create a copy of dataset file\n",
    "var newFileName = $\"{DATASET_FILE}{NEW_FILE_SUFFIX}{FILE_EXTENSION}\";\n",
    "display(newFileName);\n",
    "CreateCsvAndReplaceSeparatorInCells(originalFileName, newFileName, SEPARATOR, SEPARATOR_REPLACEMENT);"
   ]
  },
  {
   "cell_type": "code",
   "execution_count": 17,
   "metadata": {},
   "outputs": [],
   "source": [
    "var covid19Dataframe = DataFrame.LoadCsv(newFileName);"
   ]
  },
  {
   "cell_type": "markdown",
   "metadata": {},
   "source": [
    "### 4. Data Analysis\n",
    "\n",
    "Data analysis is a critical activity in the field of Data science. It provides ways to uncover the hidden attributes of a dataset which can't be analyzed or predicted by simply looking at the data source. DataFrame makes the analysis simple by providing great API's such as GroupBy, Sort, Filter etc. Jupyter notebook is great tool for this kind of activity which maintains values of variables executed in a cell and providing it to other cells."
   ]
  },
  {
   "cell_type": "markdown",
   "metadata": {},
   "source": [
    "##### Finding the range in the records in Dataset\n",
    "\n",
    "In DataFrame, Columns property allows access to values within a column by specifying column name. we'll use Last_Update column to get the date and sort it to get the start and end date"
   ]
  },
  {
   "cell_type": "code",
   "execution_count": 18,
   "metadata": {},
   "outputs": [
    {
     "data": {
      "text/html": [
       "<h4>The data is between 7/6/2020 and 7/14/2020</h4>"
      ]
     },
     "metadata": {},
     "output_type": "display_data"
    }
   ],
   "source": [
    "// Gets the data range\n",
    "\n",
    "var dateRangeDataFrame = covid19Dataframe.Columns[LAST_UPDATE].ValueCounts();\n",
    "var dataRange = dateRangeDataFrame.Columns[VALUES].Sort();\n",
    "var lastElementIndex = dataRange.Length - 1;\n",
    "\n",
    "var startDate = DateTime.Parse(dataRange[0].ToString()).ToShortDateString();\n",
    "var endDate  = DateTime.Parse(dataRange[lastElementIndex].ToString()).ToShortDateString(); // Last Element\n",
    "\n",
    "display(h4($\"The data is between {startDate} and {endDate}\"));"
   ]
  },
  {
   "cell_type": "markdown",
   "metadata": {},
   "source": [
    "##### Display 10 records\n",
    "\n",
    "Here we have 12 columns which includes Country, State, Confirmed, Deaths, Recovered and Active cases"
   ]
  },
  {
   "cell_type": "code",
   "execution_count": 19,
   "metadata": {},
   "outputs": [
    {
     "data": {
      "text/html": [
       "<table><thead><th><i>index</i></th><th>FIPS</th><th>Admin2</th><th>Province_State</th><th>Country_Region</th><th>Last_Update</th><th>Lat</th><th>Long_</th><th>Confirmed</th><th>Deaths</th><th>Recovered</th><th>Active</th><th>Combined_Key</th><th>Incidence_Rate</th><th>Case-Fatality_Ratio</th></thead><tbody><tr><td>0</td><td>45001</td><td>Abbeville</td><td>South Carolina</td><td>US</td><td>2020-07-14 04:34:46</td><td>34.223335</td><td>-82.46171</td><td>157</td><td>1</td><td>0</td><td>156</td><td>Abbeville_ South Carolina_ US</td><td>640.1109</td><td>0.6369427</td></tr><tr><td>1</td><td>22001</td><td>Acadia</td><td>Louisiana</td><td>US</td><td>2020-07-14 04:34:46</td><td>30.295065</td><td>-92.4142</td><td>1383</td><td>45</td><td>0</td><td>1338</td><td>Acadia_ Louisiana_ US</td><td>2229.0273</td><td>3.253796</td></tr><tr><td>2</td><td>51001</td><td>Accomack</td><td>Virginia</td><td>US</td><td>2020-07-14 04:34:46</td><td>37.76707</td><td>-75.63235</td><td>1041</td><td>14</td><td>0</td><td>1027</td><td>Accomack_ Virginia_ US</td><td>3221.3145</td><td>1.3448607</td></tr><tr><td>3</td><td>16001</td><td>Ada</td><td>Idaho</td><td>US</td><td>2020-07-14 04:34:46</td><td>43.452656</td><td>-116.241554</td><td>4448</td><td>25</td><td>0</td><td>4423</td><td>Ada_ Idaho_ US</td><td>923.613</td><td>0.56205034</td></tr><tr><td>4</td><td>19001</td><td>Adair</td><td>Iowa</td><td>US</td><td>2020-07-14 04:34:46</td><td>41.330757</td><td>-94.47106</td><td>17</td><td>0</td><td>0</td><td>17</td><td>Adair_ Iowa_ US</td><td>237.69576</td><td>0</td></tr><tr><td>5</td><td>21001</td><td>Adair</td><td>Kentucky</td><td>US</td><td>2020-07-14 04:34:46</td><td>37.1046</td><td>-85.281296</td><td>142</td><td>19</td><td>0</td><td>123</td><td>Adair_ Kentucky_ US</td><td>739.5063</td><td>13.380281</td></tr><tr><td>6</td><td>29001</td><td>Adair</td><td>Missouri</td><td>US</td><td>2020-07-14 04:34:46</td><td>40.190586</td><td>-92.600784</td><td>100</td><td>0</td><td>0</td><td>100</td><td>Adair_ Missouri_ US</td><td>394.58627</td><td>0</td></tr><tr><td>7</td><td>40001</td><td>Adair</td><td>Oklahoma</td><td>US</td><td>2020-07-14 04:34:46</td><td>35.88494</td><td>-94.65859</td><td>137</td><td>4</td><td>0</td><td>133</td><td>Adair_ Oklahoma_ US</td><td>617.28394</td><td>2.919708</td></tr><tr><td>8</td><td>8001</td><td>Adams</td><td>Colorado</td><td>US</td><td>2020-07-14 04:34:46</td><td>39.87432</td><td>-104.33626</td><td>4788</td><td>158</td><td>0</td><td>4630</td><td>Adams_ Colorado_ US</td><td>925.35864</td><td>3.2999165</td></tr><tr><td>9</td><td>16003</td><td>Adams</td><td>Idaho</td><td>US</td><td>2020-07-14 04:34:46</td><td>44.893337</td><td>-116.45452</td><td>12</td><td>0</td><td>0</td><td>12</td><td>Adams_ Idaho_ US</td><td>279.45972</td><td>0</td></tr></tbody></table>"
      ]
     },
     "metadata": {},
     "output_type": "display_data"
    }
   ],
   "source": [
    "display(covid19Dataframe)"
   ]
  },
  {
   "cell_type": "markdown",
   "metadata": {},
   "source": [
    "##### Display Top 5 records"
   ]
  },
  {
   "cell_type": "code",
   "execution_count": 14,
   "metadata": {},
   "outputs": [
    {
     "data": {
      "text/html": [
       "<table><thead><th><i>index</i></th><th>FIPS</th><th>Admin2</th><th>Province_State</th><th>Country_Region</th><th>Last_Update</th><th>Lat</th><th>Long_</th><th>Confirmed</th><th>Deaths</th><th>Recovered</th><th>Active</th><th>Combined_Key</th><th>Incidence_Rate</th><th>Case-Fatality_Ratio</th></thead><tbody><tr><td>0</td><td>45001</td><td>Abbeville</td><td>South Carolina</td><td>US</td><td>2020-06-11 03:33:41</td><td>34.223335</td><td>-82.46171</td><td>60</td><td>0</td><td>0</td><td>60</td><td>Abbeville_ South Carolina_ US</td><td>244.62837</td><td>0</td></tr><tr><td>1</td><td>22001</td><td>Acadia</td><td>Louisiana</td><td>US</td><td>2020-06-11 03:33:41</td><td>30.295065</td><td>-92.4142</td><td>520</td><td>29</td><td>0</td><td>491</td><td>Acadia_ Louisiana_ US</td><td>838.1014</td><td>5.576923</td></tr><tr><td>2</td><td>51001</td><td>Accomack</td><td>Virginia</td><td>US</td><td>2020-06-11 03:33:41</td><td>37.76707</td><td>-75.63235</td><td>984</td><td>13</td><td>0</td><td>971</td><td>Accomack_ Virginia_ US</td><td>3044.9314</td><td>1.3211383</td></tr><tr><td>3</td><td>16001</td><td>Ada</td><td>Idaho</td><td>US</td><td>2020-06-11 03:33:41</td><td>43.452656</td><td>-116.241554</td><td>854</td><td>22</td><td>0</td><td>832</td><td>Ada_ Idaho_ US</td><td>177.33037</td><td>2.5761125</td></tr><tr><td>4</td><td>19001</td><td>Adair</td><td>Iowa</td><td>US</td><td>2020-06-11 03:33:41</td><td>41.330757</td><td>-94.47106</td><td>10</td><td>0</td><td>0</td><td>10</td><td>Adair_ Iowa_ US</td><td>139.82103</td><td>0</td></tr></tbody></table>"
      ]
     },
     "execution_count": 14,
     "metadata": {},
     "output_type": "execute_result"
    }
   ],
   "source": [
    "covid19Dataframe.Head(5)"
   ]
  },
  {
   "cell_type": "markdown",
   "metadata": {},
   "source": [
    "##### Display Random 6 records"
   ]
  },
  {
   "cell_type": "code",
   "execution_count": 15,
   "metadata": {},
   "outputs": [
    {
     "data": {
      "text/html": [
       "<table><thead><th><i>index</i></th><th>FIPS</th><th>Admin2</th><th>Province_State</th><th>Country_Region</th><th>Last_Update</th><th>Lat</th><th>Long_</th><th>Confirmed</th><th>Deaths</th><th>Recovered</th><th>Active</th><th>Combined_Key</th><th>Incidence_Rate</th><th>Case-Fatality_Ratio</th></thead><tbody><tr><td>0</td><td>55071</td><td>Manitowoc</td><td>Wisconsin</td><td>US</td><td>2020-06-11 03:33:41</td><td>44.11947</td><td>-87.80929</td><td>40</td><td>1</td><td>0</td><td>39</td><td>Manitowoc_ Wisconsin_ US</td><td>50.645092</td><td>2.5</td></tr><tr><td>1</td><td>48313</td><td>Madison</td><td>Texas</td><td>US</td><td>2020-06-11 03:33:41</td><td>30.966948</td><td>-95.93004</td><td>17</td><td>0</td><td>0</td><td>17</td><td>Madison_ Texas_ US</td><td>119.01428</td><td>0</td></tr><tr><td>2</td><td>&lt;null&gt;</td><td></td><td>Karnataka</td><td>India</td><td>2020-06-11 03:33:41</td><td>14.70518</td><td>76.166435</td><td>5921</td><td>66</td><td>2604</td><td>3251</td><td>Karnataka_ India</td><td>8.763713</td><td>1.1146766</td></tr><tr><td>3</td><td>12045</td><td>Gulf</td><td>Florida</td><td>US</td><td>2020-06-11 03:33:41</td><td>29.93543</td><td>-85.24271</td><td>8</td><td>0</td><td>0</td><td>8</td><td>Gulf_ Florida_ US</td><td>58.655327</td><td>0</td></tr><tr><td>4</td><td>48041</td><td>Brazos</td><td>Texas</td><td>US</td><td>2020-06-11 03:33:41</td><td>30.663645</td><td>-96.302055</td><td>665</td><td>24</td><td>0</td><td>641</td><td>Brazos_ Texas_ US</td><td>290.1257</td><td>3.6090226</td></tr><tr><td>5</td><td>18127</td><td>Porter</td><td>Indiana</td><td>US</td><td>2020-06-11 03:33:41</td><td>41.45987</td><td>-87.06849</td><td>576</td><td>33</td><td>0</td><td>543</td><td>Porter_ Indiana_ US</td><td>338.05</td><td>5.7291665</td></tr></tbody></table>"
      ]
     },
     "execution_count": 15,
     "metadata": {},
     "output_type": "execute_result"
    }
   ],
   "source": [
    "covid19Dataframe.Sample(6)"
   ]
  },
  {
   "cell_type": "markdown",
   "metadata": {},
   "source": [
    "##### Display Dataset Statistics such as Total, Max, Min, Mean of items in a column"
   ]
  },
  {
   "cell_type": "code",
   "execution_count": 16,
   "metadata": {},
   "outputs": [
    {
     "data": {
      "text/html": [
       "<table><thead><th><i>index</i></th><th>Description</th><th>FIPS</th><th>Lat</th><th>Long_</th><th>Confirmed</th><th>Deaths</th><th>Recovered</th><th>Active</th><th>Incidence_Rate</th><th>Case-Fatality_Ratio</th></thead><tbody><tr><td>0</td><td>Length (excluding null values)</td><td>3039</td><td>3645</td><td>3645</td><td>3717</td><td>3717</td><td>3717</td><td>3717</td><td>3645</td><td>3666</td></tr><tr><td>1</td><td>Max</td><td>99999</td><td>71.7069</td><td>178.065</td><td>290143</td><td>41128</td><td>533504</td><td>249015</td><td>12380.361</td><td>100</td></tr><tr><td>2</td><td>Min</td><td>0</td><td>-52.368</td><td>-164.03539</td><td>0</td><td>0</td><td>0</td><td>-583819</td><td>0</td><td>0</td></tr><tr><td>3</td><td>Mean</td><td>25640.164</td><td>35.37938</td><td>-70.273254</td><td>1980.1558</td><td>111.97229</td><td>929.4611</td><td>925.1859</td><td>339.88214</td><td>3.4311118</td></tr></tbody></table>"
      ]
     },
     "execution_count": 16,
     "metadata": {},
     "output_type": "execute_result"
    }
   ],
   "source": [
    "covid19Dataframe.Description()"
   ]
  },
  {
   "cell_type": "markdown",
   "metadata": {},
   "source": [
    "##### Display Dataset type information for each column"
   ]
  },
  {
   "cell_type": "code",
   "execution_count": 17,
   "metadata": {},
   "outputs": [
    {
     "data": {
      "text/html": [
       "<table><thead><th><i>index</i></th><th>Info</th><th>FIPS</th><th>Admin2</th><th>Province_State</th><th>Country_Region</th><th>Last_Update</th><th>Lat</th><th>Long_</th><th>Confirmed</th><th>Deaths</th><th>Recovered</th><th>Active</th><th>Combined_Key</th><th>Incidence_Rate</th><th>Case-Fatality_Ratio</th></thead><tbody><tr><td>0</td><td>DataType</td><td>System.Single</td><td>System.String</td><td>System.String</td><td>System.String</td><td>System.String</td><td>System.Single</td><td>System.Single</td><td>System.Single</td><td>System.Single</td><td>System.Single</td><td>System.Single</td><td>System.String</td><td>System.Single</td><td>System.Single</td></tr><tr><td>1</td><td>Length (excluding null values)</td><td>3039</td><td>3717</td><td>3717</td><td>3717</td><td>3717</td><td>3645</td><td>3645</td><td>3717</td><td>3717</td><td>3717</td><td>3717</td><td>3717</td><td>3645</td><td>3666</td></tr></tbody></table>"
      ]
     },
     "execution_count": 17,
     "metadata": {},
     "output_type": "execute_result"
    }
   ],
   "source": [
    "covid19Dataframe.Info()"
   ]
  },
  {
   "cell_type": "markdown",
   "metadata": {},
   "source": [
    "### 5. Data Cleaning\n",
    "\n",
    "Data Cleaning is another important activity in which remove the irrelevant data present in our dataset. This irrelevant data can be due missing values, invalid values or an outlier. The columns with less significance is removed for better analysis and prediction of our data. In order to keep this notebook simple, we'll use one of the techniques to remove invalid data. In this we are going to remove invalid Active cases such as the ones having negative values. The other techniques we can apply on data  could be DropNull to remove rows with null values, FillNull to fill null values with other such as mean, average. We can transform DataFrame and remove some of the unnecessary columns."
   ]
  },
  {
   "cell_type": "markdown",
   "metadata": {},
   "source": [
    "#### Remove invalid Active cases"
   ]
  },
  {
   "cell_type": "code",
   "execution_count": 18,
   "metadata": {},
   "outputs": [
    {
     "data": {
      "text/html": [
       "<table><thead><th><i>index</i></th><th>Description</th><th>FIPS</th><th>Lat</th><th>Long_</th><th>Confirmed</th><th>Deaths</th><th>Recovered</th><th>Active</th><th>Incidence_Rate</th><th>Case-Fatality_Ratio</th></thead><tbody><tr><td>0</td><td>Length (excluding null values)</td><td>3039</td><td>3645</td><td>3645</td><td>3717</td><td>3717</td><td>3717</td><td>3717</td><td>3645</td><td>3666</td></tr><tr><td>1</td><td>Max</td><td>99999</td><td>71.7069</td><td>178.065</td><td>290143</td><td>41128</td><td>533504</td><td>249015</td><td>12380.361</td><td>100</td></tr><tr><td>2</td><td>Min</td><td>0</td><td>-52.368</td><td>-164.03539</td><td>0</td><td>0</td><td>0</td><td>-583819</td><td>0</td><td>0</td></tr><tr><td>3</td><td>Mean</td><td>25640.164</td><td>35.37938</td><td>-70.273254</td><td>1980.1558</td><td>111.97229</td><td>929.4611</td><td>925.1859</td><td>339.88214</td><td>3.4311118</td></tr></tbody></table>"
      ]
     },
     "execution_count": 18,
     "metadata": {},
     "output_type": "execute_result"
    }
   ],
   "source": [
    "covid19Dataframe.Description()"
   ]
  },
  {
   "cell_type": "markdown",
   "metadata": {},
   "source": [
    "From the above description table, we could see negative value for Active cases which seems to be incorrect as number of active cases is cases is calculated by the below formula\n",
    "\n",
    "**Active = Confirmed - Deaths - Recovered**\n",
    "\n",
    "In order to check for invalid active cases, we'll use DataFrame **Filter** to retrive active column values whose value is less than 0.0"
   ]
  },
  {
   "cell_type": "code",
   "execution_count": 19,
   "metadata": {},
   "outputs": [
    {
     "data": {
      "text/html": [
       "<table><thead><th><i>index</i></th><th>FIPS</th><th>Admin2</th><th>Province_State</th><th>Country_Region</th><th>Last_Update</th><th>Lat</th><th>Long_</th><th>Confirmed</th><th>Deaths</th><th>Recovered</th><th>Active</th><th>Combined_Key</th><th>Incidence_Rate</th><th>Case-Fatality_Ratio</th></thead><tbody><tr><td>0</td><td>90004</td><td>Unassigned</td><td>Arizona</td><td>US</td><td>2020-06-11 03:33:41</td><td>&lt;null&gt;</td><td>&lt;null&gt;</td><td>0</td><td>2</td><td>0</td><td>-2</td><td>Unassigned_ Arizona_ US</td><td>&lt;null&gt;</td><td>&lt;null&gt;</td></tr><tr><td>1</td><td>90018</td><td>Unassigned</td><td>Indiana</td><td>US</td><td>2020-06-11 03:33:41</td><td>&lt;null&gt;</td><td>&lt;null&gt;</td><td>0</td><td>182</td><td>0</td><td>-182</td><td>Unassigned_ Indiana_ US</td><td>&lt;null&gt;</td><td>&lt;null&gt;</td></tr><tr><td>2</td><td>90024</td><td>Unassigned</td><td>Maryland</td><td>US</td><td>2020-06-11 03:33:41</td><td>&lt;null&gt;</td><td>&lt;null&gt;</td><td>0</td><td>43</td><td>0</td><td>-43</td><td>Unassigned_ Maryland_ US</td><td>&lt;null&gt;</td><td>&lt;null&gt;</td></tr><tr><td>3</td><td>90056</td><td>Unassigned</td><td>Wyoming</td><td>US</td><td>2020-06-11 03:33:41</td><td>&lt;null&gt;</td><td>&lt;null&gt;</td><td>0</td><td>17</td><td>0</td><td>-17</td><td>Unassigned_ Wyoming_ US</td><td>&lt;null&gt;</td><td>&lt;null&gt;</td></tr><tr><td>4</td><td>&lt;null&gt;</td><td></td><td>Cantabria</td><td>Spain</td><td>2020-06-11 03:33:41</td><td>43.1828</td><td>-3.9878</td><td>2324</td><td>202</td><td>2287</td><td>-165</td><td>Cantabria_ Spain</td><td>399.55917</td><td>8.691911</td></tr><tr><td>5</td><td>&lt;null&gt;</td><td></td><td>Ceuta</td><td>Spain</td><td>2020-06-11 03:33:41</td><td>35.8894</td><td>-5.3213</td><td>163</td><td>4</td><td>163</td><td>-4</td><td>Ceuta_ Spain</td><td>192.15128</td><td>2.4539878</td></tr><tr><td>6</td><td>&lt;null&gt;</td><td></td><td>Diamond Princess</td><td>Canada</td><td>2020-06-11 03:33:41</td><td>&lt;null&gt;</td><td>&lt;null&gt;</td><td>0</td><td>1</td><td>0</td><td>-1</td><td>Diamond Princess_ Canada</td><td>&lt;null&gt;</td><td>&lt;null&gt;</td></tr><tr><td>7</td><td>&lt;null&gt;</td><td></td><td>Extremadura</td><td>Spain</td><td>2020-06-11 03:33:41</td><td>39.4937</td><td>-6.0679</td><td>2982</td><td>508</td><td>2652</td><td>-178</td><td>Extremadura_ Spain</td><td>279.88858</td><td>17.035547</td></tr><tr><td>8</td><td>&lt;null&gt;</td><td></td><td>Galicia</td><td>Spain</td><td>2020-06-11 03:33:41</td><td>42.5751</td><td>-8.1339</td><td>9153</td><td>609</td><td>9204</td><td>-660</td><td>Galicia_ Spain</td><td>338.94464</td><td>6.6535563</td></tr><tr><td>9</td><td>&lt;null&gt;</td><td></td><td>Hiroshima</td><td>Japan</td><td>2020-06-11 03:33:41</td><td>34.60531</td><td>132.78871</td><td>165</td><td>3</td><td>164</td><td>-2</td><td>Hiroshima_ Japan</td><td>5.8840795</td><td>1.8181819</td></tr></tbody></table>"
      ]
     },
     "metadata": {},
     "output_type": "display_data"
    }
   ],
   "source": [
    "// Filter : Gets active records with negative calues\n",
    "\n",
    "PrimitiveDataFrameColumn<bool> invalidActiveFilter = covid19Dataframe.Columns[ACTIVE].ElementwiseLessThan(0.0);\n",
    "var invalidActiveDataFrame = covid19Dataframe.Filter(invalidActiveFilter);\n",
    "display(invalidActiveDataFrame)"
   ]
  },
  {
   "cell_type": "markdown",
   "metadata": {},
   "source": [
    "If we take any record(index 5) and apply above formula to calculate \n",
    "\n",
    "**Active(-17) = Confirmed(0) - Deaths(17) - Recovered(0)**\n",
    "\n",
    "We could see invalid active cases.\n",
    "\n",
    "In order to remove it, we'll apply a **Filter** to DataFrame to get active values greater than or equal to 0.0. "
   ]
  },
  {
   "cell_type": "code",
   "execution_count": 20,
   "metadata": {},
   "outputs": [
    {
     "data": {
      "text/html": [
       "<table><thead><th><i>index</i></th><th>FIPS</th><th>Admin2</th><th>Province_State</th><th>Country_Region</th><th>Last_Update</th><th>Lat</th><th>Long_</th><th>Confirmed</th><th>Deaths</th><th>Recovered</th><th>Active</th><th>Combined_Key</th><th>Incidence_Rate</th><th>Case-Fatality_Ratio</th></thead><tbody><tr><td>0</td><td>45001</td><td>Abbeville</td><td>South Carolina</td><td>US</td><td>2020-06-11 03:33:41</td><td>34.223335</td><td>-82.46171</td><td>60</td><td>0</td><td>0</td><td>60</td><td>Abbeville_ South Carolina_ US</td><td>244.62837</td><td>0</td></tr><tr><td>1</td><td>22001</td><td>Acadia</td><td>Louisiana</td><td>US</td><td>2020-06-11 03:33:41</td><td>30.295065</td><td>-92.4142</td><td>520</td><td>29</td><td>0</td><td>491</td><td>Acadia_ Louisiana_ US</td><td>838.1014</td><td>5.576923</td></tr><tr><td>2</td><td>51001</td><td>Accomack</td><td>Virginia</td><td>US</td><td>2020-06-11 03:33:41</td><td>37.76707</td><td>-75.63235</td><td>984</td><td>13</td><td>0</td><td>971</td><td>Accomack_ Virginia_ US</td><td>3044.9314</td><td>1.3211383</td></tr><tr><td>3</td><td>16001</td><td>Ada</td><td>Idaho</td><td>US</td><td>2020-06-11 03:33:41</td><td>43.452656</td><td>-116.241554</td><td>854</td><td>22</td><td>0</td><td>832</td><td>Ada_ Idaho_ US</td><td>177.33037</td><td>2.5761125</td></tr><tr><td>4</td><td>19001</td><td>Adair</td><td>Iowa</td><td>US</td><td>2020-06-11 03:33:41</td><td>41.330757</td><td>-94.47106</td><td>10</td><td>0</td><td>0</td><td>10</td><td>Adair_ Iowa_ US</td><td>139.82103</td><td>0</td></tr><tr><td>5</td><td>21001</td><td>Adair</td><td>Kentucky</td><td>US</td><td>2020-06-11 03:33:41</td><td>37.1046</td><td>-85.281296</td><td>101</td><td>19</td><td>0</td><td>82</td><td>Adair_ Kentucky_ US</td><td>525.9869</td><td>18.811882</td></tr><tr><td>6</td><td>29001</td><td>Adair</td><td>Missouri</td><td>US</td><td>2020-06-11 03:33:41</td><td>40.190586</td><td>-92.600784</td><td>74</td><td>0</td><td>0</td><td>74</td><td>Adair_ Missouri_ US</td><td>291.99384</td><td>0</td></tr><tr><td>7</td><td>40001</td><td>Adair</td><td>Oklahoma</td><td>US</td><td>2020-06-11 03:33:41</td><td>35.88494</td><td>-94.65859</td><td>95</td><td>4</td><td>0</td><td>91</td><td>Adair_ Oklahoma_ US</td><td>428.0436</td><td>4.2105265</td></tr><tr><td>8</td><td>8001</td><td>Adams</td><td>Colorado</td><td>US</td><td>2020-06-11 03:33:41</td><td>39.87432</td><td>-104.33626</td><td>3643</td><td>143</td><td>0</td><td>3500</td><td>Adams_ Colorado_ US</td><td>704.06885</td><td>3.9253364</td></tr><tr><td>9</td><td>16003</td><td>Adams</td><td>Idaho</td><td>US</td><td>2020-06-11 03:33:41</td><td>44.893337</td><td>-116.45452</td><td>3</td><td>0</td><td>0</td><td>3</td><td>Adams_ Idaho_ US</td><td>69.86493</td><td>0</td></tr></tbody></table>"
      ]
     },
     "metadata": {},
     "output_type": "display_data"
    }
   ],
   "source": [
    "// Remove invalid active cases by applying filter\n",
    "\n",
    "PrimitiveDataFrameColumn<bool> activeFilter = covid19Dataframe.Columns[ACTIVE].ElementwiseGreaterThanOrEqual(0.0);\n",
    "covid19Dataframe = covid19Dataframe.Filter(activeFilter);\n",
    "display(covid19Dataframe);"
   ]
  },
  {
   "cell_type": "markdown",
   "metadata": {},
   "source": [
    "**As seen above, negative active cases have been removed**"
   ]
  },
  {
   "cell_type": "markdown",
   "metadata": {},
   "source": [
    "### 6. Visualization\n",
    "\n",
    "Visualization of data helps business owners make better decisions. The DataFrame maintains data in a tabular format. In order to prepare data for different plots, I have used DataFrame features such as Sum, GroupBy, OrderBy, OrderByDescending etc. \n",
    "\n",
    "For visualization, I have used open source library called as [XPlot.Plotly](https://fslab.org/XPlot/plotly.html). Different plots have been used such as Bar, Pie and Line/Scatter Graph. "
   ]
  },
  {
   "cell_type": "markdown",
   "metadata": {},
   "source": [
    "#### Global"
   ]
  },
  {
   "cell_type": "markdown",
   "metadata": {},
   "source": [
    "##### Collect Data"
   ]
  },
  {
   "cell_type": "code",
   "execution_count": 23,
   "metadata": {},
   "outputs": [],
   "source": [
    "//  Gets the collection of confirmed, deaths and recovered\n",
    "\n",
    "var confirmed = covid19Dataframe.Columns[CONFIRMED];\n",
    "var deaths = covid19Dataframe.Columns[DEATHS];\n",
    "var recovered = covid19Dataframe.Columns[RECOVERED];\n",
    "var actives = covid19Dataframe.Columns[ACTIVE];\n",
    "\n",
    "// Gets the sum of collection by using Sum method of DataFrame\n",
    "var totalConfirmed = Convert.ToDouble(confirmed.Sum());\n",
    "var totalDeaths = Convert.ToDouble(deaths.Sum());\n",
    "var totalRecovered = Convert.ToDouble(recovered.Sum());\n",
    "var totalActives = Convert.ToDouble(actives.Sum());"
   ]
  },
  {
   "cell_type": "markdown",
   "metadata": {},
   "source": [
    "##### Confirmed Vs Deaths Vs Receovered cases"
   ]
  },
  {
   "cell_type": "code",
   "execution_count": 25,
   "metadata": {},
   "outputs": [
    {
     "data": {
      "text/html": [
       "<div id=\"602eda76-ae57-4c17-b6ef-e5fdee2a2110\" style=\"width: 900px; height: 500px;\"></div><script type=\"text/javascript\">\r\n",
       "\r\n",
       "var renderPlotly = function() {\r\n",
       "    var xplotRequire = requirejs.config({context:'xplot-2.0.0',paths:{plotly:'https://cdn.plot.ly/plotly-1.49.2.min'}});\r\n",
       "    xplotRequire(['plotly'], function(Plotly) {\r\n",
       "\n",
       "            var data = [{\"type\":\"pie\",\"labels\":[\"Confirmed\",\"Deaths\",\"Recovered\",\"Active\"],\"values\":[7330118.0,413056.0,2668557.0,4248505.0]}];\n",
       "            var layout = \"\";\n",
       "            Plotly.newPlot('602eda76-ae57-4c17-b6ef-e5fdee2a2110', data, layout);\n",
       "        });\r\n",
       "};\r\n",
       "if ((typeof(requirejs) !==  typeof(Function)) || (typeof(requirejs.config) !== typeof(Function))) { \r\n",
       "    var script = document.createElement(\"script\"); \r\n",
       "    script.setAttribute(\"src\", \"https://cdnjs.cloudflare.com/ajax/libs/require.js/2.3.6/require.min.js\"); \r\n",
       "    script.onload = function(){\r\n",
       "        renderPlotly();\r\n",
       "    };\r\n",
       "    document.getElementsByTagName(\"head\")[0].appendChild(script); \r\n",
       "}\r\n",
       "else {\r\n",
       "    renderPlotly();\r\n",
       "}\r\n",
       "</script>"
      ]
     },
     "metadata": {},
     "output_type": "display_data"
    }
   ],
   "source": [
    "display(Chart.Plot(\n",
    "    new Graph.Pie()\n",
    "    {\n",
    "        values = new double[]{totalConfirmed, totalDeaths, totalRecovered,totalActives},\n",
    "        labels = new string[] {CONFIRMED, DEATHS, RECOVERED,ACTIVE}\n",
    "    }\n",
    "));"
   ]
  },
  {
   "cell_type": "markdown",
   "metadata": {},
   "source": [
    "##### Top 5 Countries with Confirmed cases"
   ]
  },
  {
   "cell_type": "markdown",
   "metadata": {},
   "source": [
    "In order to get top 5 countries data, I have used DataFrame's GroupBy, Sum, OrderByDescending methods"
   ]
  },
  {
   "cell_type": "code",
   "execution_count": 79,
   "metadata": {},
   "outputs": [],
   "source": [
    "// The data for top 5 countries is not present in the csv file.\n",
    "// In order to get that, first DataFrame's GROUPBY is used aginst the country.\n",
    "// Then it was aggregated using SUM on Confirmed column.\n",
    "// In the last, ORDERBYDESCENDING is used to get the top five countries.\n",
    "\n",
    "var countryConfirmedGroup = covid19Dataframe.GroupBy(COUNTRY).Sum(CONFIRMED).OrderByDescending(CONFIRMED);\n",
    "var topCountriesColumn = countryConfirmedGroup.Columns[COUNTRY];\n",
    "var topConfirmedCasesByCountry = countryConfirmedGroup.Columns[CONFIRMED];\n",
    "\n",
    "HashSet<string> countries = new HashSet<string>(TOP_COUNT);\n",
    "HashSet<long> confirmedCases = new HashSet<long>(TOP_COUNT);\n",
    "for(int index = 0; index < TOP_COUNT; index++)\n",
    "{\n",
    "    countries.Add(topCountriesColumn[index].ToString());\n",
    "    confirmedCases.Add(Convert.ToInt64(topConfirmedCasesByCountry[index]));\n",
    "}"
   ]
  },
  {
   "cell_type": "code",
   "execution_count": 80,
   "metadata": {},
   "outputs": [
    {
     "data": {
      "text/html": [
       "<div id=\"472d3feb-abee-4016-9028-95a3644c3cab\" style=\"width: 900px; height: 500px;\"></div><script type=\"text/javascript\">\r\n",
       "\r\n",
       "var renderPlotly = function() {\r\n",
       "    var xplotRequire = requirejs.config({context:'xplot-2.0.0',paths:{plotly:'https://cdn.plot.ly/plotly-1.49.2.min'}});\r\n",
       "    xplotRequire(['plotly'], function(Plotly) {\r\n",
       "\n",
       "            var data = [{\"type\":\"bar\",\"x\":[\"US\",\"Brazil\",\"Russia\",\"United Kingdom\",\"India\"],\"y\":[2000464,772416,493023,291588,276583]}];\n",
       "            var layout = {\"title\":\"Top 5 Countries : Confirmed\"};\n",
       "            Plotly.newPlot('472d3feb-abee-4016-9028-95a3644c3cab', data, layout);\n",
       "        });\r\n",
       "};\r\n",
       "if ((typeof(requirejs) !==  typeof(Function)) || (typeof(requirejs.config) !== typeof(Function))) { \r\n",
       "    var script = document.createElement(\"script\"); \r\n",
       "    script.setAttribute(\"src\", \"https://cdnjs.cloudflare.com/ajax/libs/require.js/2.3.6/require.min.js\"); \r\n",
       "    script.onload = function(){\r\n",
       "        renderPlotly();\r\n",
       "    };\r\n",
       "    document.getElementsByTagName(\"head\")[0].appendChild(script); \r\n",
       "}\r\n",
       "else {\r\n",
       "    renderPlotly();\r\n",
       "}\r\n",
       "</script>"
      ]
     },
     "metadata": {},
     "output_type": "display_data"
    }
   ],
   "source": [
    "var title = \"Top 5 Countries : Confirmed\";\n",
    "var series1 = new Graph.Bar{\n",
    "        x = countries.ToArray(),\n",
    "        y = confirmedCases.ToArray()\n",
    "    };\n",
    "\n",
    "var chart = Chart.Plot(new []{series1});\n",
    "chart.WithTitle(title);\n",
    "display(chart);"
   ]
  },
  {
   "cell_type": "markdown",
   "metadata": {},
   "source": [
    "##### Top 5 Countries with Deaths"
   ]
  },
  {
   "cell_type": "code",
   "execution_count": 81,
   "metadata": {},
   "outputs": [],
   "source": [
    "// Get the data\n",
    "var countryDeathsGroup = covid19Dataframe.GroupBy(COUNTRY).Sum(DEATHS).OrderByDescending(DEATHS);\n",
    "var topCountriesColumn = countryDeathsGroup.Columns[COUNTRY];\n",
    "var topDeathCasesByCountry = countryDeathsGroup.Columns[DEATHS];\n",
    "\n",
    "HashSet<string> countries = new HashSet<string>(TOP_COUNT);\n",
    "HashSet<long> deathCases = new HashSet<long>(TOP_COUNT);\n",
    "for(int index = 0; index < TOP_COUNT; index++)\n",
    "{\n",
    "    countries.Add(topCountriesColumn[index].ToString());\n",
    "    deathCases.Add(Convert.ToInt64(topDeathCasesByCountry[index]));\n",
    "}"
   ]
  },
  {
   "cell_type": "code",
   "execution_count": 82,
   "metadata": {},
   "outputs": [
    {
     "data": {
      "text/html": [
       "<div id=\"85213c14-1cee-4878-927b-6164070745d3\" style=\"width: 900px; height: 500px;\"></div><script type=\"text/javascript\">\r\n",
       "\r\n",
       "var renderPlotly = function() {\r\n",
       "    var xplotRequire = requirejs.config({context:'xplot-2.0.0',paths:{plotly:'https://cdn.plot.ly/plotly-1.49.2.min'}});\r\n",
       "    xplotRequire(['plotly'], function(Plotly) {\r\n",
       "\n",
       "            var data = [{\"type\":\"bar\",\"x\":[\"US\",\"United Kingdom\",\"Brazil\",\"Italy\",\"France\"],\"y\":[112680,41213,39680,34114,29322]}];\n",
       "            var layout = {\"title\":\"Top 5 Countries : Deaths\"};\n",
       "            Plotly.newPlot('85213c14-1cee-4878-927b-6164070745d3', data, layout);\n",
       "        });\r\n",
       "};\r\n",
       "if ((typeof(requirejs) !==  typeof(Function)) || (typeof(requirejs.config) !== typeof(Function))) { \r\n",
       "    var script = document.createElement(\"script\"); \r\n",
       "    script.setAttribute(\"src\", \"https://cdnjs.cloudflare.com/ajax/libs/require.js/2.3.6/require.min.js\"); \r\n",
       "    script.onload = function(){\r\n",
       "        renderPlotly();\r\n",
       "    };\r\n",
       "    document.getElementsByTagName(\"head\")[0].appendChild(script); \r\n",
       "}\r\n",
       "else {\r\n",
       "    renderPlotly();\r\n",
       "}\r\n",
       "</script>"
      ]
     },
     "metadata": {},
     "output_type": "display_data"
    }
   ],
   "source": [
    "var title = \"Top 5 Countries : Deaths\";\n",
    "var series1 = new Graph.Bar{\n",
    "        x = countries.ToArray(),\n",
    "        y = deathCases.ToArray()\n",
    "    };\n",
    "\n",
    "var chart = Chart.Plot(new []{series1});\n",
    "chart.WithTitle(title);\n",
    "display(chart);"
   ]
  },
  {
   "cell_type": "markdown",
   "metadata": {},
   "source": [
    "##### Top 5 Countries with Recovered cases"
   ]
  },
  {
   "cell_type": "code",
   "execution_count": 83,
   "metadata": {},
   "outputs": [],
   "source": [
    "// Get the data\n",
    "var countryRecoveredGroup = covid19Dataframe.GroupBy(COUNTRY).Sum(RECOVERED).OrderByDescending(RECOVERED);\n",
    "var topCountriesColumn = countryRecoveredGroup.Columns[COUNTRY];\n",
    "var topRecoveredCasesByCountry = countryRecoveredGroup.Columns[RECOVERED];\n",
    "\n",
    "HashSet<string> countries = new HashSet<string>(TOP_COUNT);\n",
    "HashSet<long> recoveredCases = new HashSet<long>(TOP_COUNT);\n",
    "for(int index = 0; index < TOP_COUNT; index++)\n",
    "{\n",
    "    countries.Add(topCountriesColumn[index].ToString());\n",
    "    recoveredCases.Add(Convert.ToInt64(topRecoveredCasesByCountry[index]));\n",
    "}"
   ]
  },
  {
   "cell_type": "code",
   "execution_count": 84,
   "metadata": {},
   "outputs": [
    {
     "data": {
      "text/html": [
       "<div id=\"f55c49c4-fedb-4c12-a433-fc37b089fbc2\" style=\"width: 900px; height: 500px;\"></div><script type=\"text/javascript\">\r\n",
       "\r\n",
       "var renderPlotly = function() {\r\n",
       "    var xplotRequire = requirejs.config({context:'xplot-2.0.0',paths:{plotly:'https://cdn.plot.ly/plotly-1.49.2.min'}});\r\n",
       "    xplotRequire(['plotly'], function(Plotly) {\r\n",
       "\n",
       "            var data = [{\"type\":\"bar\",\"x\":[\"Brazil\",\"Russia\",\"Germany\",\"Italy\",\"Turkey\"],\"y\":[413916,252295,170630,169939,146839]}];\n",
       "            var layout = {\"title\":\"Top 5 Countries : Recovered\"};\n",
       "            Plotly.newPlot('f55c49c4-fedb-4c12-a433-fc37b089fbc2', data, layout);\n",
       "        });\r\n",
       "};\r\n",
       "if ((typeof(requirejs) !==  typeof(Function)) || (typeof(requirejs.config) !== typeof(Function))) { \r\n",
       "    var script = document.createElement(\"script\"); \r\n",
       "    script.setAttribute(\"src\", \"https://cdnjs.cloudflare.com/ajax/libs/require.js/2.3.6/require.min.js\"); \r\n",
       "    script.onload = function(){\r\n",
       "        renderPlotly();\r\n",
       "    };\r\n",
       "    document.getElementsByTagName(\"head\")[0].appendChild(script); \r\n",
       "}\r\n",
       "else {\r\n",
       "    renderPlotly();\r\n",
       "}\r\n",
       "</script>"
      ]
     },
     "metadata": {},
     "output_type": "display_data"
    }
   ],
   "source": [
    "var title = \"Top 5 Countries : Recovered\";\n",
    "var series1 = new Graph.Bar{\n",
    "        x = countries.ToArray(),\n",
    "        y = recoveredCases.ToArray()\n",
    "    };\n",
    "\n",
    "var chart = Chart.Plot(new []{series1});\n",
    "chart.WithTitle(title);\n",
    "display(chart);"
   ]
  },
  {
   "cell_type": "markdown",
   "metadata": {},
   "source": [
    "#### Italy"
   ]
  },
  {
   "cell_type": "markdown",
   "metadata": {},
   "source": [
    "##### Confirmed Vs Deaths Vs Receovered cases"
   ]
  },
  {
   "cell_type": "markdown",
   "metadata": {},
   "source": [
    "Filering on Country column with ITALY as value"
   ]
  },
  {
   "cell_type": "code",
   "execution_count": 85,
   "metadata": {},
   "outputs": [],
   "source": [
    "// Filering on Country column with ITALY as value\n",
    "\n",
    "PrimitiveDataFrameColumn<bool> italyFilter = covid19Dataframe.Columns[COUNTRY].ElementwiseEquals(ITALY);\n",
    "var italyDataFrame = covid19Dataframe.Filter(italyFilter);\n",
    "            \n",
    "var italyConfirmed = italyDataFrame.Columns[CONFIRMED];\n",
    "var italyDeaths = italyDataFrame.Columns[DEATHS];\n",
    "var italyRecovered = italyDataFrame.Columns[RECOVERED];\n",
    "var italyActives = italyDataFrame.Columns[ACTIVE];\n",
    "\n",
    "var italyTotalConfirmed = Convert.ToDouble(italyConfirmed.Sum());\n",
    "var italyTotalDeaths = Convert.ToDouble(italyDeaths.Sum());\n",
    "var italyTotalRecovered = Convert.ToDouble(italyRecovered.Sum());\n",
    "double italyTotalActive = Convert.ToDouble(italyActives.Sum());"
   ]
  },
  {
   "cell_type": "code",
   "execution_count": 86,
   "metadata": {},
   "outputs": [
    {
     "data": {
      "text/html": [
       "<div id=\"a16b9cd2-156e-4441-b2d1-ea920dd2ba22\" style=\"width: 900px; height: 500px;\"></div><script type=\"text/javascript\">\r\n",
       "\r\n",
       "var renderPlotly = function() {\r\n",
       "    var xplotRequire = requirejs.config({context:'xplot-2.0.0',paths:{plotly:'https://cdn.plot.ly/plotly-1.49.2.min'}});\r\n",
       "    xplotRequire(['plotly'], function(Plotly) {\r\n",
       "\n",
       "            var data = [{\"type\":\"pie\",\"labels\":[\"Confirmed\",\"Deaths\",\"Recovered\",\"Active\"],\"values\":[235763.0,34114.0,169939.0,31710.0]}];\n",
       "            var layout = \"\";\n",
       "            Plotly.newPlot('a16b9cd2-156e-4441-b2d1-ea920dd2ba22', data, layout);\n",
       "        });\r\n",
       "};\r\n",
       "if ((typeof(requirejs) !==  typeof(Function)) || (typeof(requirejs.config) !== typeof(Function))) { \r\n",
       "    var script = document.createElement(\"script\"); \r\n",
       "    script.setAttribute(\"src\", \"https://cdnjs.cloudflare.com/ajax/libs/require.js/2.3.6/require.min.js\"); \r\n",
       "    script.onload = function(){\r\n",
       "        renderPlotly();\r\n",
       "    };\r\n",
       "    document.getElementsByTagName(\"head\")[0].appendChild(script); \r\n",
       "}\r\n",
       "else {\r\n",
       "    renderPlotly();\r\n",
       "}\r\n",
       "</script>"
      ]
     },
     "metadata": {},
     "output_type": "display_data"
    }
   ],
   "source": [
    "display(Chart.Plot(\n",
    "    new Graph.Pie()\n",
    "    {\n",
    "        values = new double[]{italyTotalConfirmed, italyTotalDeaths, italyTotalRecovered,italyTotalActive},\n",
    "        labels = new string[] {CONFIRMED, DEATHS, RECOVERED, ACTIVE}\n",
    "    }\n",
    "));"
   ]
  },
  {
   "cell_type": "code",
   "execution_count": 87,
   "metadata": {},
   "outputs": [
    {
     "data": {
      "text/plain": [
       "Total Actives : 31710"
      ]
     },
     "metadata": {},
     "output_type": "display_data"
    }
   ],
   "source": [
    "display(\"Total Actives : \"+italyTotalActive)"
   ]
  },
  {
   "cell_type": "markdown",
   "metadata": {},
   "source": [
    "\n"
   ]
  },
  {
   "cell_type": "markdown",
   "metadata": {},
   "source": [
    "## References\n",
    "- [Using ML.NET in Jupyter notebooks](https://devblogs.microsoft.com/cesardelatorre/using-ml-net-in-jupyter-notebooks/)\n",
    "- [An Introduction to DataFrame](https://devblogs.microsoft.com/dotnet/an-introduction-to-dataframe/)\n",
    "- [DataFrame - Sample](https://github.com/dotnet/interactive/blob/master/NotebookExamples/csharp/Samples/HousingML.ipynb)\n",
    "- [Getting started with ML.NET in Jupyter Notebooks](https://xamlbrewer.wordpress.com/2020/02/20/getting-started-with-ml-net-in-jupyter-notebooks/)\n",
    "- [Tips and tricks for C# Jupyter notebook](https://ewinnington.github.io/posts/jupyter-tips-csharp)\n",
    "- [Jupyter notebooks with C# and R running](https://github.com/ewinnington/noteb)\n",
    "- [Data analysis using F# and Jupyter notebook — Samuele Resca](https://medium.com/@samueleresca/data-analysis-using-f-and-jupyter-notebook-samuele-resca-66a229e25306)\n",
    "- [Exploring the C# Dataframe API](https://www.youtube.com/watch?v=FI3VxXClJ7Y) by Jon Wood\n",
    "- [Coronavirus-COVID-19-Visualization-Prediction](https://www.kaggle.com/therealcyberlord/coronavirus-covid-19-visualization-prediction)\n",
    "- [Data Modelling & Analysing Coronavirus (COVID19) Spread using Data Science & Data Analytics in Python Code](https://in.springboard.com/blog/data-modelling-covid/)"
   ]
  }
 ],
 "metadata": {
  "kernelspec": {
   "display_name": ".NET (C#)",
   "language": "C#",
   "name": ".net-csharp"
  },
  "language_info": {
   "file_extension": ".cs",
   "mimetype": "text/x-csharp",
   "name": "C#",
   "pygments_lexer": "csharp",
   "version": "8.0"
  },
  "nteract": {
   "version": "0.23.3"
  }
 },
 "nbformat": 4,
 "nbformat_minor": 4
}
