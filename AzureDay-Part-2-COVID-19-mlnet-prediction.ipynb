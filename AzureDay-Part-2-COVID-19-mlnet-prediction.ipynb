{
 "cells": [
  {
   "cell_type": "markdown",
   "metadata": {},
   "source": [
    "# AzureDay - Part - 2: COVID-19 Time Series Analysis and Prediction using ML.Net framework"
   ]
  },
  {
   "cell_type": "markdown",
   "metadata": {},
   "source": [
    "### Dataset\n",
    "\n",
    "- [2019 Novel Coronavirus COVID-19 (2019-nCoV) Data Repository by Johns Hopkins CSSE - Time Series](https://github.com/CSSEGISandData/COVID-19/tree/master/csse_covid_19_data/csse_covid_19_time_series)."
   ]
  },
  {
   "cell_type": "markdown",
   "metadata": {},
   "source": [
    "### Introduction \n",
    "\n",
    "This is **Part-2** of our analysis on the COVID-19 dataset provided by Johns Hopkins CSSE. In [**Part-1**](https://github.com/praveenraghuvanshi1512/TechnicalSessions/tree/31052020-virtualmlnet/31052020-virtualmlnet/src/part-1), I did data analysis on the dataset and created some tables and plots for getting insights from it. In Part-2, I'll focus on applying machine learning for making a prediction using time-series API's provided by ML.Net framework. I'll be building a model from scratch on the number of confirmed cases and predicting for the next 7/14 days. Later on, I'll plot these numbers for better visualization.\n",
    "\n",
    "[**ML.Net**](https://dotnet.microsoft.com/apps/machinelearning-ai/ml-dotnet) is a cross-platform framework from Microsoft for developing Machine learning models in the .Net ecosystem. It allows .Net developers to solve business problems using machine learning algorithms leveraging their preferred language such as C#/F#. It's highly scalable and used within Microsoft in many of its products such as Bing, Powerpoint, etc.\n",
    "\n"
   ]
  },
  {
   "cell_type": "markdown",
   "metadata": {},
   "source": [
    "### Summary\n",
    "\n",
    "Below is the summary of steps we'll be performing\n",
    "\n",
    "1. Define application level items\n",
    "    - Nuget packages\n",
    "    - Namespaces\n",
    "    - Constants\n",
    "     \n",
    "2. Utility Functions\n",
    "    - Formatters    \n",
    "\n",
    "3. Dataset and Transformations\n",
    "    - Actual from [Johns Hopkins CSSE](https://github.com/CSSEGISandData/COVID-19/blob/master/csse_covid_19_data/csse_covid_19_time_series)\n",
    "    - Transformed [time_series_covid19_confirmed_global_transposed.csv](time_series_covid19_confirmed_global_transposed.csv)\n",
    "    \n",
    "4. Data Classes\n",
    "    - ConfirmedData : Provides a map between columns in a dataset\n",
    "    - ConfirmedForecast : Holds predicted values\n",
    "\n",
    "5. Data Analysis\n",
    "    - Visualize Data using DataFrame API\n",
    "    - Display Top 10 Rows - dataframe.Head(10)\n",
    "    - Display Last 10 Rows - dataframe.Tail(10)\n",
    "    - Display Dataset Statistics - dataframe.Description()\n",
    "    - Plot of TotalConfimed cases vs Date\n",
    "\n",
    "6. Load Data - MLContext\n",
    "7. ML Pipeline\n",
    "8. Train Model\n",
    "9. Prediction/Forecasting\n",
    "10. Prediction Visualization\n",
    "11. Prediction Analysis"
   ]
  },
  {
   "cell_type": "markdown",
   "metadata": {},
   "source": [
    "### 1. Define Application wide Items"
   ]
  },
  {
   "cell_type": "markdown",
   "metadata": {},
   "source": [
    "#### Nuget Packages\n"
   ]
  },
  {
   "cell_type": "code",
   "execution_count": 4,
   "metadata": {
    "execution": {
     "iopub.execute_input": "2020-05-28T22:23:13.710Z",
     "iopub.status.busy": "2020-05-28T22:23:13.688Z",
     "iopub.status.idle": "2020-05-28T22:23:23.404Z"
    }
   },
   "outputs": [
    {
     "data": {
      "text/html": [
       "Installing package Microsoft.ML..............done!"
      ]
     },
     "metadata": {},
     "output_type": "display_data"
    },
    {
     "data": {
      "text/html": [
       "Successfully added reference to package Microsoft.ML, version 1.5.0"
      ]
     },
     "metadata": {},
     "output_type": "display_data"
    },
    {
     "data": {
      "text/html": [
       "Installing package Microsoft.ML.TimeSeries..........................done!"
      ]
     },
     "metadata": {},
     "output_type": "display_data"
    },
    {
     "data": {
      "text/html": [
       "Successfully added reference to package Microsoft.ML.TimeSeries, version 1.5.0"
      ]
     },
     "metadata": {},
     "output_type": "display_data"
    },
    {
     "data": {
      "text/html": [
       "Installing package Microsoft.Data.Analysis.......done!"
      ]
     },
     "metadata": {},
     "output_type": "display_data"
    },
    {
     "data": {
      "text/html": [
       "Successfully added reference to package Microsoft.Data.Analysis, version 0.4.0"
      ]
     },
     "metadata": {},
     "output_type": "display_data"
    },
    {
     "data": {
      "text/html": [
       "Installing package XPlot.Plotly.....done!"
      ]
     },
     "metadata": {},
     "output_type": "display_data"
    },
    {
     "data": {
      "text/html": [
       "Successfully added reference to package XPlot.Plotly, version 3.0.1"
      ]
     },
     "metadata": {},
     "output_type": "display_data"
    },
    {
     "data": {
      "text/html": [
       "Installing package CsvHelper.....done!"
      ]
     },
     "metadata": {},
     "output_type": "display_data"
    },
    {
     "data": {
      "text/html": [
       "Successfully added reference to package CsvHelper, version 15.0.5"
      ]
     },
     "metadata": {},
     "output_type": "display_data"
    }
   ],
   "source": [
    "// ML.NET Nuget packages installation\n",
    "#r \"nuget:Microsoft.ML\"\n",
    "#r \"nuget:Microsoft.ML.TimeSeries\"\n",
    "#r \"nuget:Microsoft.Data.Analysis\"\n",
    "\n",
    "// Install XPlot package\n",
    "#r \"nuget:XPlot.Plotly\"\n",
    "    \n",
    "// CSV Helper Package for reading CSV\n",
    "#r \"nuget:CsvHelper\""
   ]
  },
  {
   "cell_type": "markdown",
   "metadata": {},
   "source": [
    "#### Namespaces"
   ]
  },
  {
   "cell_type": "code",
   "execution_count": 5,
   "metadata": {
    "execution": {
     "iopub.execute_input": "2020-05-28T22:23:27.823Z",
     "iopub.status.busy": "2020-05-28T22:23:27.805Z",
     "iopub.status.idle": "2020-05-28T22:23:27.845Z"
    }
   },
   "outputs": [],
   "source": [
    "using System;\n",
    "using System.Collections.Generic;\n",
    "using System.Net.Http;\n",
    "using System.Globalization;\n",
    "using System.IO;\n",
    "using System.Linq;\n",
    "using Microsoft.ML;\n",
    "using Microsoft.ML.Data;\n",
    "using Microsoft.Data.Analysis;\n",
    "using Microsoft.ML.Transforms.TimeSeries;\n",
    "using Microsoft.AspNetCore.Html;\n",
    "using XPlot.Plotly;\n",
    "using CsvHelper;\n",
    "using CsvHelper.Configuration;"
   ]
  },
  {
   "cell_type": "markdown",
   "metadata": {},
   "source": [
    "#### Constants"
   ]
  },
  {
   "cell_type": "code",
   "execution_count": 22,
   "metadata": {
    "execution": {
     "iopub.execute_input": "2020-05-28T22:23:33.567Z",
     "iopub.status.busy": "2020-05-28T22:23:33.552Z",
     "iopub.status.idle": "2020-05-28T22:23:33.589Z"
    }
   },
   "outputs": [],
   "source": [
    "const string CONFIRMED_DATASET_FILE = \"time_series_covid19_confirmed_global_transposed.csv\";\n",
    "\n",
    "// Forecast API\n",
    "const int WINDOW_SIZE = 5;\n",
    "const int SERIES_LENGTH = 10;\n",
    "const int TRAIN_SIZE = 100;\n",
    "const int HORIZON = 14;\n",
    "\n",
    "// Dataset\n",
    "const int DEFAULT_ROW_COUNT = 10;\n",
    "const string TOTAL_CONFIRMED_COLUMN = \"TotalConfirmed\";\n",
    "const string DATE_COLUMN = \"Date\";"
   ]
  },
  {
   "cell_type": "markdown",
   "metadata": {},
   "source": [
    "### 2. Utility Functions - TBR"
   ]
  },
  {
   "cell_type": "markdown",
   "metadata": {},
   "source": [
    "#### Formatters\n",
    "\n",
    "By default the output of DataFrame is not proper and in order to display it as a table, we need to have a custom formatter implemented as shown in next cell. "
   ]
  },
  {
   "cell_type": "code",
   "execution_count": 7,
   "metadata": {
    "execution": {
     "iopub.execute_input": "2020-05-28T22:23:35.628Z",
     "iopub.status.busy": "2020-05-28T22:23:35.612Z",
     "iopub.status.idle": "2020-05-28T22:23:36.344Z"
    }
   },
   "outputs": [],
   "source": [
    "Formatter<DataFrame>.Register((df, writer) =>\n",
    "{\n",
    "    var headers = new List<IHtmlContent>();\n",
    "    headers.Add(th(i(\"index\")));\n",
    "    headers.AddRange(df.Columns.Select(c => (IHtmlContent) th(c.Name)));\n",
    "    var rows = new List<List<IHtmlContent>>();\n",
    "    var take = DEFAULT_ROW_COUNT;\n",
    "    for (var i = 0; i < Math.Min(take, df.Rows.Count); i++)\n",
    "    {\n",
    "        var cells = new List<IHtmlContent>();\n",
    "        cells.Add(td(i));\n",
    "        foreach (var obj in df.Rows[i])\n",
    "        {\n",
    "            cells.Add(td(obj));\n",
    "        }\n",
    "        rows.Add(cells);\n",
    "    }\n",
    "\n",
    "    var t = table(\n",
    "        thead(\n",
    "            headers),\n",
    "        tbody(\n",
    "            rows.Select(\n",
    "                r => tr(r))));\n",
    "\n",
    "    writer.Write(t);\n",
    "}, \"text/html\");"
   ]
  },
  {
   "cell_type": "markdown",
   "metadata": {},
   "source": [
    "### 3. Dataset and Transformations"
   ]
  },
  {
   "cell_type": "markdown",
   "metadata": {},
   "source": [
    "#### Download Dataset\n",
    "- Actual Dataset: [Johns Hopkins CSSE](https://github.com/CSSEGISandData/COVID-19/blob/master/csse_covid_19_data/csse_covid_19_time_series)\n",
    "- Transformed Dataset: [time_series_covid19_confirmed_global_transposed.csv](time_series_covid19_confirmed_global_transposed.csv)\n",
    "\n",
    "\n",
    "I'll be using COVID-19 time series dataset from [Johns Hopkins CSSE](https://github.com/CSSEGISandData/COVID-19/blob/master/csse_covid_19_data/csse_covid_19_time_series) and will be performing predictions using **time_series_covid19_confirmed_global.csv** file.\n",
    "\n",
    "The data present in these files have name of the countries as Rows and dates as columns which makes it difficult to map to our classes while loading data from csv. Also, it contains data per country wise. In order to keep things simple I'll work with global count of COVID-19 cases and not specific country.\n",
    "\n",
    "I have done few transformations to the dataset as below and created transformed csv's\n",
    "- Sum cases from all the countries for a specific date\n",
    "- Just have two rows with Date and Total \n",
    "- Applied transformation to the csv for converting Rows into Columns and vice-versa. [Refer](https://support.office.com/en-us/article/transpose-rotate-data-from-rows-to-columns-or-vice-versa-3419f2e3-beab-4318-aae5-d0f862209744) for transformation.\n",
    "- Below transposed files have been saved in the current github directory. There is no change in dataset. The files have data till 05-27-2020\n",
    "    - [time_series_covid19_confirmed_global_transposed.csv](time_series_covid19_confirmed_global_transposed.csv) : Columns - **Date, TotalConfirmed**"
   ]
  },
  {
   "cell_type": "markdown",
   "metadata": {},
   "source": [
    "##### Before transformation\n",
    "\n",
    "<img src=\"time-series-before-transformation.png\" alt=\"Time Series data before transofmation\" style=\"zoom: 80%;\" />"
   ]
  },
  {
   "cell_type": "markdown",
   "metadata": {},
   "source": [
    "#### After transformation\n",
    "\n",
    "<img src=\"time-series-after-transformation.png\" alt=\"Time Series data after transofmation\" style=\"zoom: 80%;\" />"
   ]
  },
  {
   "cell_type": "markdown",
   "metadata": {},
   "source": [
    "### 4. Data Classes  INPUT - OUTPUT FOR ML"
   ]
  },
  {
   "cell_type": "markdown",
   "metadata": {},
   "source": [
    "Now, we need to create few data structures to map to columns within our dataset."
   ]
  },
  {
   "cell_type": "markdown",
   "metadata": {},
   "source": [
    "#### Confirmed cases"
   ]
  },
  {
   "cell_type": "code",
   "execution_count": 8,
   "metadata": {
    "execution": {
     "iopub.execute_input": "2020-05-28T22:23:38.646Z",
     "iopub.status.busy": "2020-05-28T22:23:38.631Z",
     "iopub.status.idle": "2020-05-28T22:23:38.863Z"
    }
   },
   "outputs": [],
   "source": [
    "/// <summary>\n",
    "/// Represent data for confirmed cases with a mapping to columns in a dataset\n",
    "/// </summary>\n",
    "public class ConfirmedData\n",
    "{\n",
    "    /// <summary>\n",
    "    /// Date of confirmed case\n",
    "    /// </summary>\n",
    "    [LoadColumn(0)]\n",
    "    public DateTime Date;\n",
    "\n",
    "    /// <summary>\n",
    "    /// Total no of confirmed cases on a particular date\n",
    "    /// </summary>\n",
    "    [LoadColumn(1)]\n",
    "    public float TotalConfirmed;\n",
    "}"
   ]
  },
  {
   "cell_type": "code",
   "execution_count": 9,
   "metadata": {
    "execution": {
     "iopub.execute_input": "2020-05-28T22:23:38.947Z",
     "iopub.status.busy": "2020-05-28T22:23:38.931Z",
     "iopub.status.idle": "2020-05-28T22:23:39.013Z"
    }
   },
   "outputs": [],
   "source": [
    "/// <summary>\n",
    "/// Prediction/Forecast for Confirmed cases\n",
    "/// </summary>\n",
    "internal class ConfirmedForecast\n",
    "{\n",
    "    /// <summary>\n",
    "    /// No of predicted confirmed cases for multiple days\n",
    "    /// </summary>\n",
    "    public float[] Forecast { get; set; }\n",
    "}"
   ]
  },
  {
   "cell_type": "markdown",
   "metadata": {},
   "source": [
    "### 5. Data Analysis"
   ]
  },
  {
   "cell_type": "markdown",
   "metadata": {},
   "source": [
    "For loading data from csv, first we need to create MLContext that acts as a starting point for creating a machine learning model in ML.Net. Few things to note\n",
    "- Set hasHeader as true as our dataset has header\n",
    "- Add separatorChar to ',' as its a csv"
   ]
  },
  {
   "cell_type": "markdown",
   "metadata": {},
   "source": [
    "#### Visualize Data - DataFrame"
   ]
  },
  {
   "cell_type": "code",
   "execution_count": 10,
   "metadata": {},
   "outputs": [],
   "source": [
    "const char SEPARATOR = ',';\n",
    "const char SEPARATOR_REPLACEMENT = '_';\n",
    "const int DEFAULT_ROW_COUNT = 10;\n",
    "\n",
    "var remoteFilePath =\"https://raw.githubusercontent.com/CSSEGISandData/COVID-19/master/csse_covid_19_data/csse_covid_19_time_series/\";\n",
    "\n",
    "var originalFileName= \"time_series_covid19_confirmed_global.csv\";\n",
    "\n",
    "var originalFileName_2= \"time_series_covid19_confirmed_global-old.csv\";\n",
    "\n",
    "var newFileName= \"time_series_covid19_confirmed_global-new.csv\";\n",
    "\n",
    "var contents = new HttpClient().GetStringAsync(remoteFilePath+originalFileName).Result;\n",
    "        \n",
    "File.WriteAllText(originalFileName_2, contents);\n",
    "\n",
    "\n",
    "// Replace a characeter in a cell of csv with a defined separator\n",
    "private void CreateCsvAndReplaceSeparatorInCells(string inputFile, string outputFile, char separator, char separatorReplacement)\n",
    "{\n",
    "    var culture = CultureInfo.InvariantCulture;\n",
    "    using var reader = new StreamReader(inputFile);\n",
    "    using var csvIn = new CsvReader(reader, new CsvConfiguration(culture));\n",
    "    using var recordsIn = new CsvDataReader(csvIn);\n",
    "    using var writer = new StreamWriter(outputFile);\n",
    "    using var outCsv = new CsvWriter(writer, culture);\n",
    "\n",
    "    // Write Header\n",
    "    csvIn.ReadHeader();\n",
    "    var headers = csvIn.Context.HeaderRecord;\n",
    "    foreach (var header in headers)\n",
    "    {\n",
    "        outCsv.WriteField(header.Replace(separator, separatorReplacement));\n",
    "    }\n",
    "    outCsv.NextRecord();\n",
    "\n",
    "    // Write rows\n",
    "    while (recordsIn.Read())\n",
    "    {\n",
    "        var columns = recordsIn.FieldCount;\n",
    "        for (var index = 0; index < columns; index++)\n",
    "        {\n",
    "            var cellValue = recordsIn.GetString(index);\n",
    "            outCsv.WriteField(cellValue.Replace(separator, separatorReplacement));\n",
    "        }\n",
    "        outCsv.NextRecord();\n",
    "    }\n",
    "}\n",
    "\n",
    "CreateCsvAndReplaceSeparatorInCells(originalFileName_2, newFileName, SEPARATOR, SEPARATOR_REPLACEMENT);\n",
    "\n",
    "var covid19Dataframe = DataFrame.LoadCsv(newFileName);\n",
    "\n",
    "List<ConfirmedData> inMemoryCollection = new List<ConfirmedData>();\n",
    "\n",
    "\n",
    "PrimitiveDataFrameColumn<DateTime> dateTimes = new PrimitiveDataFrameColumn<DateTime>(\"Date\"); \n",
    "PrimitiveDataFrameColumn<double> totals = new PrimitiveDataFrameColumn<double>(\"TotalConfirmed\");\n",
    "\n",
    "var cols = covid19Dataframe.Columns;\n",
    "foreach(var col in cols)\n",
    "{\n",
    "        if(col.Name !=\"Province/State\" && col.Name !=\"Country/Region\" && col.Name !=\"Lat\" && col.Name !=\"Long\" )\n",
    "        {\n",
    "            dateTimes.Append(DateTime.Parse(col.Name));\n",
    "            var confirmed = covid19Dataframe.Columns[col.Name];\n",
    "            totals.Append(Convert.ToDouble(confirmed.Sum()));\n",
    "            inMemoryCollection.Add(new ConfirmedData(){ Date=DateTime.Parse(col.Name), TotalConfirmed=(float)Convert.ToDouble(confirmed.Sum()) });\n",
    "         }           \n",
    "}\n",
    "\n",
    "\n",
    "  "
   ]
  },
  {
   "cell_type": "code",
   "execution_count": 11,
   "metadata": {
    "execution": {
     "iopub.execute_input": "2020-05-28T22:23:40.991Z",
     "iopub.status.busy": "2020-05-28T22:23:40.974Z",
     "iopub.status.idle": "2020-05-28T22:23:41.030Z"
    }
   },
   "outputs": [],
   "source": [
    "var predictedDf = DataFrame.LoadCsv(CONFIRMED_DATASET_FILE);\n",
    "\n",
    "//var predictedDf = new DataFrame(dateTimes, totals);\n",
    "//display(predictedDf)"
   ]
  },
  {
   "cell_type": "code",
   "execution_count": 12,
   "metadata": {
    "execution": {
     "iopub.execute_input": "2020-05-28T22:23:41.465Z",
     "iopub.status.busy": "2020-05-28T22:23:41.452Z",
     "iopub.status.idle": "2020-05-28T22:23:41.698Z"
    }
   },
   "outputs": [
    {
     "data": {
      "text/html": [
       "<table><thead><th><i>index</i></th><th>Date</th><th>TotalConfirmed</th></thead><tbody><tr><td>0</td><td>1/22/2020</td><td>555</td></tr><tr><td>1</td><td>1/23/2020</td><td>654</td></tr><tr><td>2</td><td>1/24/2020</td><td>941</td></tr><tr><td>3</td><td>1/25/2020</td><td>1434</td></tr><tr><td>4</td><td>1/26/2020</td><td>2118</td></tr><tr><td>5</td><td>1/27/2020</td><td>2927</td></tr><tr><td>6</td><td>1/28/2020</td><td>5578</td></tr><tr><td>7</td><td>1/29/2020</td><td>6166</td></tr><tr><td>8</td><td>1/30/2020</td><td>8234</td></tr><tr><td>9</td><td>1/31/2020</td><td>9927</td></tr></tbody></table>"
      ]
     },
     "execution_count": 12,
     "metadata": {},
     "output_type": "execute_result"
    }
   ],
   "source": [
    "predictedDf.Head(DEFAULT_ROW_COUNT) // top"
   ]
  },
  {
   "cell_type": "code",
   "execution_count": 13,
   "metadata": {
    "execution": {
     "iopub.execute_input": "2020-05-28T22:23:41.975Z",
     "iopub.status.busy": "2020-05-28T22:23:41.955Z",
     "iopub.status.idle": "2020-05-28T22:23:42.010Z"
    },
    "scrolled": true
   },
   "outputs": [
    {
     "data": {
      "text/html": [
       "<table><thead><th><i>index</i></th><th>Date</th><th>TotalConfirmed</th></thead><tbody><tr><td>0</td><td>4/28/2020</td><td>3097229</td></tr><tr><td>1</td><td>4/29/2020</td><td>3172287</td></tr><tr><td>2</td><td>4/30/2020</td><td>3256910</td></tr><tr><td>3</td><td>5/1/2020</td><td>3343777</td></tr><tr><td>4</td><td>5/2/2020</td><td>3427584</td></tr><tr><td>5</td><td>5/3/2020</td><td>3506729</td></tr><tr><td>6</td><td>5/4/2020</td><td>3583055</td></tr><tr><td>7</td><td>5/5/2020</td><td>3662691</td></tr><tr><td>8</td><td>5/6/2020</td><td>3755341</td></tr><tr><td>9</td><td>5/7/2020</td><td>3845718</td></tr></tbody></table>"
      ]
     },
     "execution_count": 13,
     "metadata": {},
     "output_type": "execute_result"
    }
   ],
   "source": [
    "predictedDf.Tail(DEFAULT_ROW_COUNT) //last"
   ]
  },
  {
   "cell_type": "code",
   "execution_count": 14,
   "metadata": {},
   "outputs": [
    {
     "data": {
      "text/html": [
       "<table><thead><th><i>index</i></th><th>Date</th><th>TotalConfirmed</th></thead><tbody><tr><td>0</td><td>4/8/2020</td><td>1480200</td></tr><tr><td>1</td><td>4/3/2020</td><td>1095876</td></tr><tr><td>2</td><td>4/29/2020</td><td>3172287</td></tr><tr><td>3</td><td>3/23/2020</td><td>378282</td></tr><tr><td>4</td><td>2/23/2020</td><td>78958</td></tr><tr><td>5</td><td>4/10/2020</td><td>1657929</td></tr><tr><td>6</td><td>2/14/2020</td><td>66885</td></tr><tr><td>7</td><td>3/29/2020</td><td>720285</td></tr><tr><td>8</td><td>2/27/2020</td><td>82746</td></tr><tr><td>9</td><td>3/10/2020</td><td>118620</td></tr></tbody></table>"
      ]
     },
     "execution_count": 14,
     "metadata": {},
     "output_type": "execute_result"
    }
   ],
   "source": [
    "predictedDf.Sample(DEFAULT_ROW_COUNT) //random"
   ]
  },
  {
   "cell_type": "code",
   "execution_count": 15,
   "metadata": {
    "execution": {
     "iopub.execute_input": "2020-05-28T22:23:42.473Z",
     "iopub.status.busy": "2020-05-28T22:23:42.462Z",
     "iopub.status.idle": "2020-05-28T22:23:42.501Z"
    },
    "scrolled": true
   },
   "outputs": [
    {
     "data": {
      "text/html": [
       "<table><thead><th><i>index</i></th><th>Description</th><th>TotalConfirmed</th></thead><tbody><tr><td>0</td><td>Length (excluding null values)</td><td>107</td></tr><tr><td>1</td><td>Max</td><td>3845718</td></tr><tr><td>2</td><td>Min</td><td>555</td></tr><tr><td>3</td><td>Mean</td><td>923109.56</td></tr></tbody></table>"
      ]
     },
     "execution_count": 15,
     "metadata": {},
     "output_type": "execute_result"
    }
   ],
   "source": [
    "predictedDf.Description()"
   ]
  },
  {
   "cell_type": "markdown",
   "metadata": {},
   "source": [
    "##### Number of Confirmed cases over Time"
   ]
  },
  {
   "cell_type": "code",
   "execution_count": 16,
   "metadata": {
    "execution": {
     "iopub.execute_input": "2020-05-28T22:23:43.377Z",
     "iopub.status.busy": "2020-05-28T22:23:43.358Z",
     "iopub.status.idle": "2020-05-28T22:23:43.395Z"
    }
   },
   "outputs": [],
   "source": [
    "// Number of confirmed cases over time\n",
    "var totalConfirmedDateColumn = predictedDf.Columns[DATE_COLUMN];\n",
    "var totalConfirmedColumn = predictedDf.Columns[TOTAL_CONFIRMED_COLUMN];\n",
    "\n",
    "var dates = new List<string>();\n",
    "var totalConfirmedCases = new List<string>();\n",
    "for (int index = 0; index < totalConfirmedDateColumn.Length; index++)\n",
    "{\n",
    "    dates.Add(totalConfirmedDateColumn[index].ToString());\n",
    "    totalConfirmedCases.Add(totalConfirmedColumn[index].ToString());\n",
    "}"
   ]
  },
  {
   "cell_type": "code",
   "execution_count": 17,
   "metadata": {
    "execution": {
     "iopub.execute_input": "2020-05-28T22:23:43.879Z",
     "iopub.status.busy": "2020-05-28T22:23:43.863Z",
     "iopub.status.idle": "2020-05-28T22:23:43.947Z"
    },
    "scrolled": true
   },
   "outputs": [
    {
     "data": {
      "text/html": [
       "<div id=\"a6091511-4d14-4ec5-87ed-13d236782d1a\" style=\"width: 900px; height: 500px;\"></div><script type=\"text/javascript\">\r\n",
       "\r\n",
       "var renderPlotly = function() {\r\n",
       "    var xplotRequire = requirejs.config({context:'xplot-2.0.0',paths:{plotly:'https://cdn.plot.ly/plotly-1.49.2.min'}});\r\n",
       "    xplotRequire(['plotly'], function(Plotly) {\r\n",
       "\n",
       "            var data = [{\"type\":\"scattergl\",\"x\":[\"1/22/2020\",\"1/23/2020\",\"1/24/2020\",\"1/25/2020\",\"1/26/2020\",\"1/27/2020\",\"1/28/2020\",\"1/29/2020\",\"1/30/2020\",\"1/31/2020\",\"2/1/2020\",\"2/2/2020\",\"2/3/2020\",\"2/4/2020\",\"2/5/2020\",\"2/6/2020\",\"2/7/2020\",\"2/8/2020\",\"2/9/2020\",\"2/10/2020\",\"2/11/2020\",\"2/12/2020\",\"2/13/2020\",\"2/14/2020\",\"2/15/2020\",\"2/16/2020\",\"2/17/2020\",\"2/18/2020\",\"2/19/2020\",\"2/20/2020\",\"2/21/2020\",\"2/22/2020\",\"2/23/2020\",\"2/24/2020\",\"2/25/2020\",\"2/26/2020\",\"2/27/2020\",\"2/28/2020\",\"2/29/2020\",\"3/1/2020\",\"3/2/2020\",\"3/3/2020\",\"3/4/2020\",\"3/5/2020\",\"3/6/2020\",\"3/7/2020\",\"3/8/2020\",\"3/9/2020\",\"3/10/2020\",\"3/11/2020\",\"3/12/2020\",\"3/13/2020\",\"3/14/2020\",\"3/15/2020\",\"3/16/2020\",\"3/17/2020\",\"3/18/2020\",\"3/19/2020\",\"3/20/2020\",\"3/21/2020\",\"3/22/2020\",\"3/23/2020\",\"3/24/2020\",\"3/25/2020\",\"3/26/2020\",\"3/27/2020\",\"3/28/2020\",\"3/29/2020\",\"3/30/2020\",\"3/31/2020\",\"4/1/2020\",\"4/2/2020\",\"4/3/2020\",\"4/4/2020\",\"4/5/2020\",\"4/6/2020\",\"4/7/2020\",\"4/8/2020\",\"4/9/2020\",\"4/10/2020\",\"4/11/2020\",\"4/12/2020\",\"4/13/2020\",\"4/14/2020\",\"4/15/2020\",\"4/16/2020\",\"4/17/2020\",\"4/18/2020\",\"4/19/2020\",\"4/20/2020\",\"4/21/2020\",\"4/22/2020\",\"4/23/2020\",\"4/24/2020\",\"4/25/2020\",\"4/26/2020\",\"4/27/2020\",\"4/28/2020\",\"4/29/2020\",\"4/30/2020\",\"5/1/2020\",\"5/2/2020\",\"5/3/2020\",\"5/4/2020\",\"5/5/2020\",\"5/6/2020\",\"5/7/2020\"],\"y\":[\"555\",\"654\",\"941\",\"1434\",\"2118\",\"2927\",\"5578\",\"6166\",\"8234\",\"9927\",\"12038\",\"16787\",\"19881\",\"23892\",\"27635\",\"30794\",\"34391\",\"37120\",\"40150\",\"42762\",\"44802\",\"45221\",\"60368\",\"66885\",\"69030\",\"71224\",\"73258\",\"75136\",\"75639\",\"76197\",\"76819\",\"78572\",\"78958\",\"79561\",\"80406\",\"81388\",\"82746\",\"84112\",\"86011\",\"88369\",\"90306\",\"92840\",\"95120\",\"97886\",\"101801\",\"105847\",\"109821\",\"113590\",\"118620\",\"125875\",\"128352\",\"145219\",\"156116\",\"167466\",\"181603\",\"197113\",\"214846\",\"242616\",\"272247\",\"304555\",\"337018\",\"378282\",\"418079\",\"467723\",\"529701\",\"593423\",\"660824\",\"720285\",\"782490\",\"857608\",\"932638\",\"1013458\",\"1095876\",\"1176059\",\"1249737\",\"1321427\",\"1396438\",\"1480200\",\"1565538\",\"1657929\",\"1736025\",\"1835145\",\"1905157\",\"1975557\",\"2055423\",\"2151792\",\"2239628\",\"2317234\",\"2400776\",\"2471727\",\"2549038\",\"2624602\",\"2708403\",\"2795731\",\"2881140\",\"2955033\",\"3023722\",\"3097229\",\"3172287\",\"3256910\",\"3343777\",\"3427584\",\"3506729\",\"3583055\",\"3662691\",\"3755341\",\"3845718\"],\"mode\":\"lines+markers\"}];\n",
       "            var layout = {\"title\":\"Number of Confirmed Cases over Time\"};\n",
       "            Plotly.newPlot('a6091511-4d14-4ec5-87ed-13d236782d1a', data, layout);\n",
       "        });\r\n",
       "};\r\n",
       "if ((typeof(requirejs) !==  typeof(Function)) || (typeof(requirejs.config) !== typeof(Function))) { \r\n",
       "    var script = document.createElement(\"script\"); \r\n",
       "    script.setAttribute(\"src\", \"https://cdnjs.cloudflare.com/ajax/libs/require.js/2.3.6/require.min.js\"); \r\n",
       "    script.onload = function(){\r\n",
       "        renderPlotly();\r\n",
       "    };\r\n",
       "    document.getElementsByTagName(\"head\")[0].appendChild(script); \r\n",
       "}\r\n",
       "else {\r\n",
       "    renderPlotly();\r\n",
       "}\r\n",
       "</script>"
      ]
     },
     "metadata": {},
     "output_type": "display_data"
    }
   ],
   "source": [
    "var title = \"Number of Confirmed Cases over Time\";\n",
    "var confirmedTimeGraph = new Graph.Scattergl()\n",
    "    {\n",
    "        x = dates.ToArray(),\n",
    "        y = totalConfirmedCases.ToArray(),\n",
    "        mode = \"lines+markers\"\n",
    "    };\n",
    "    \n",
    "\n",
    "\n",
    "var chart = Chart.Plot(confirmedTimeGraph);\n",
    "chart.WithTitle(title);\n",
    "display(chart);"
   ]
  },
  {
   "cell_type": "markdown",
   "metadata": {},
   "source": []
  },
  {
   "cell_type": "markdown",
   "metadata": {},
   "source": [
    "### 6. Load Data - MLContext"
   ]
  },
  {
   "cell_type": "code",
   "execution_count": 18,
   "metadata": {
    "execution": {
     "iopub.execute_input": "2020-05-28T22:23:46.304Z",
     "iopub.status.busy": "2020-05-28T22:23:46.293Z",
     "iopub.status.idle": "2020-05-28T22:23:46.330Z"
    }
   },
   "outputs": [],
   "source": [
    "var context = new MLContext();"
   ]
  },
  {
   "cell_type": "code",
   "execution_count": 19,
   "metadata": {
    "execution": {
     "iopub.execute_input": "2020-05-28T22:23:46.737Z",
     "iopub.status.busy": "2020-05-28T22:23:46.726Z",
     "iopub.status.idle": "2020-05-28T22:23:46.819Z"
    }
   },
   "outputs": [],
   "source": [
    "var data = context.Data.LoadFromTextFile<ConfirmedData>(CONFIRMED_DATASET_FILE, hasHeader: true, separatorChar: ',');\n",
    "//IDataView data = context.Data.LoadFromEnumerable<ConfirmedData>(inMemoryCollection );\n"
   ]
  },
  {
   "cell_type": "markdown",
   "metadata": {},
   "source": [
    "### 7. ML Pipeline"
   ]
  },
  {
   "cell_type": "markdown",
   "metadata": {},
   "source": [
    "For creating ML Pipeline for a time-series analysis, we'll use [Single Spectrum Analysis](https://en.wikipedia.org/wiki/Singular_spectrum_analysis). ML.Net provides built in API for same, more details could be found at [TimeSeriesCatalog.ForecastBySsa](https://docs.microsoft.com/en-us/dotnet/api/microsoft.ml.timeseriescatalog.forecastbyssa?view=ml-dotnet) "
   ]
  },
  {
   "cell_type": "code",
   "execution_count": 23,
   "metadata": {
    "execution": {
     "iopub.execute_input": "2020-05-28T22:23:51.054Z",
     "iopub.status.busy": "2020-05-28T22:23:51.040Z",
     "iopub.status.idle": "2020-05-28T22:23:51.072Z"
    }
   },
   "outputs": [],
   "source": [
    "var pipeline = context.Forecasting.ForecastBySsa(\n",
    "                nameof(ConfirmedForecast.Forecast),\n",
    "                nameof(ConfirmedData.TotalConfirmed),\n",
    "                WINDOW_SIZE, \n",
    "                SERIES_LENGTH,\n",
    "                TRAIN_SIZE,\n",
    "                HORIZON);"
   ]
  },
  {
   "cell_type": "markdown",
   "metadata": {},
   "source": [
    "### 8. Train Model"
   ]
  },
  {
   "cell_type": "markdown",
   "metadata": {},
   "source": [
    "We are ready with our pipeline and ready to train the model"
   ]
  },
  {
   "cell_type": "code",
   "execution_count": 24,
   "metadata": {
    "execution": {
     "iopub.execute_input": "2020-05-28T22:24:01.162Z",
     "iopub.status.busy": "2020-05-28T22:24:01.143Z",
     "iopub.status.idle": "2020-05-28T22:24:01.278Z"
    }
   },
   "outputs": [],
   "source": [
    "var model = pipeline.Fit(data);"
   ]
  },
  {
   "cell_type": "markdown",
   "metadata": {},
   "source": [
    "# 9. Prediction/Forecasting - 14 days"
   ]
  },
  {
   "cell_type": "markdown",
   "metadata": {},
   "source": [
    "Our model is trained and we need to do prediction for next 7(Horizon) days.\n",
    "Time-series provides its own engine for making prediction which is similar to PredictionEngine present in ML.Net. Predicted values show an increasing trend which is in alignment with recent past values."
   ]
  },
  {
   "cell_type": "code",
   "execution_count": 25,
   "metadata": {},
   "outputs": [
    {
     "data": {
      "text/html": [
       "<table><thead><tr><th><i>index</i></th><th>value</th></tr></thead><tbody><tr><td>0</td><td>3348757</td></tr><tr><td>1</td><td>3450497</td></tr><tr><td>2</td><td>3563966</td></tr><tr><td>3</td><td>3690067</td></tr><tr><td>4</td><td>3830293</td></tr><tr><td>5</td><td>3985411</td></tr><tr><td>6</td><td>4156335</td></tr><tr><td>7</td><td>4343499</td></tr><tr><td>8</td><td>4547278</td></tr><tr><td>9</td><td>4767698</td></tr><tr><td>10</td><td>5004647</td></tr><tr><td>11</td><td>5257753</td></tr><tr><td>12</td><td>5526500</td></tr><tr><td>13</td><td>5810193</td></tr></tbody></table>"
      ]
     },
     "metadata": {},
     "output_type": "display_data"
    }
   ],
   "source": [
    "var forecastingEngine = model.CreateTimeSeriesEngine<ConfirmedData, ConfirmedForecast>(context);\n",
    "var forecasts = forecastingEngine.Predict();\n",
    "display(forecasts.Forecast.Select(x => (int) x))"
   ]
  },
  {
   "cell_type": "markdown",
   "metadata": {},
   "source": [
    "### 10. Prediction Visualization"
   ]
  },
  {
   "cell_type": "code",
   "execution_count": 26,
   "metadata": {},
   "outputs": [],
   "source": [
    "var lastDate = DateTime.Parse(dates.LastOrDefault());\n",
    "var predictionStartDate = lastDate.AddDays(1);\n",
    "\n",
    "for (int index = 0; index < HORIZON; index++)\n",
    "{\n",
    "    dates.Add(lastDate.AddDays(index + 1).ToShortDateString());\n",
    "    totalConfirmedCases.Add(forecasts.Forecast[index].ToString());\n",
    "}"
   ]
  },
  {
   "cell_type": "code",
   "execution_count": 27,
   "metadata": {
    "scrolled": true
   },
   "outputs": [
    {
     "data": {
      "text/html": [
       "<div id=\"648b7a77-c671-465f-8b93-09e0c6ef18de\" style=\"width: 900px; height: 500px;\"></div><script type=\"text/javascript\">\r\n",
       "\r\n",
       "var renderPlotly = function() {\r\n",
       "    var xplotRequire = requirejs.config({context:'xplot-2.0.0',paths:{plotly:'https://cdn.plot.ly/plotly-1.49.2.min'}});\r\n",
       "    xplotRequire(['plotly'], function(Plotly) {\r\n",
       "\n",
       "            var data = [{\"type\":\"scattergl\",\"x\":[\"1/22/2020\",\"1/23/2020\",\"1/24/2020\",\"1/25/2020\",\"1/26/2020\",\"1/27/2020\",\"1/28/2020\",\"1/29/2020\",\"1/30/2020\",\"1/31/2020\",\"2/1/2020\",\"2/2/2020\",\"2/3/2020\",\"2/4/2020\",\"2/5/2020\",\"2/6/2020\",\"2/7/2020\",\"2/8/2020\",\"2/9/2020\",\"2/10/2020\",\"2/11/2020\",\"2/12/2020\",\"2/13/2020\",\"2/14/2020\",\"2/15/2020\",\"2/16/2020\",\"2/17/2020\",\"2/18/2020\",\"2/19/2020\",\"2/20/2020\",\"2/21/2020\",\"2/22/2020\",\"2/23/2020\",\"2/24/2020\",\"2/25/2020\",\"2/26/2020\",\"2/27/2020\",\"2/28/2020\",\"2/29/2020\",\"3/1/2020\",\"3/2/2020\",\"3/3/2020\",\"3/4/2020\",\"3/5/2020\",\"3/6/2020\",\"3/7/2020\",\"3/8/2020\",\"3/9/2020\",\"3/10/2020\",\"3/11/2020\",\"3/12/2020\",\"3/13/2020\",\"3/14/2020\",\"3/15/2020\",\"3/16/2020\",\"3/17/2020\",\"3/18/2020\",\"3/19/2020\",\"3/20/2020\",\"3/21/2020\",\"3/22/2020\",\"3/23/2020\",\"3/24/2020\",\"3/25/2020\",\"3/26/2020\",\"3/27/2020\",\"3/28/2020\",\"3/29/2020\",\"3/30/2020\",\"3/31/2020\",\"4/1/2020\",\"4/2/2020\",\"4/3/2020\",\"4/4/2020\",\"4/5/2020\",\"4/6/2020\",\"4/7/2020\",\"4/8/2020\",\"4/9/2020\",\"4/10/2020\",\"4/11/2020\",\"4/12/2020\",\"4/13/2020\",\"4/14/2020\",\"4/15/2020\",\"4/16/2020\",\"4/17/2020\",\"4/18/2020\",\"4/19/2020\",\"4/20/2020\",\"4/21/2020\",\"4/22/2020\",\"4/23/2020\",\"4/24/2020\",\"4/25/2020\",\"4/26/2020\",\"4/27/2020\",\"4/28/2020\",\"4/29/2020\",\"4/30/2020\",\"5/1/2020\",\"5/2/2020\",\"5/3/2020\",\"5/4/2020\",\"5/5/2020\",\"5/6/2020\",\"5/7/2020\",\"5/8/2020\",\"5/9/2020\",\"5/10/2020\",\"5/11/2020\",\"5/12/2020\",\"5/13/2020\",\"5/14/2020\",\"5/15/2020\",\"5/16/2020\",\"5/17/2020\",\"5/18/2020\",\"5/19/2020\",\"5/20/2020\",\"5/21/2020\"],\"y\":[\"555\",\"654\",\"941\",\"1434\",\"2118\",\"2927\",\"5578\",\"6166\",\"8234\",\"9927\",\"12038\",\"16787\",\"19881\",\"23892\",\"27635\",\"30794\",\"34391\",\"37120\",\"40150\",\"42762\",\"44802\",\"45221\",\"60368\",\"66885\",\"69030\",\"71224\",\"73258\",\"75136\",\"75639\",\"76197\",\"76819\",\"78572\",\"78958\",\"79561\",\"80406\",\"81388\",\"82746\",\"84112\",\"86011\",\"88369\",\"90306\",\"92840\",\"95120\",\"97886\",\"101801\",\"105847\",\"109821\",\"113590\",\"118620\",\"125875\",\"128352\",\"145219\",\"156116\",\"167466\",\"181603\",\"197113\",\"214846\",\"242616\",\"272247\",\"304555\",\"337018\",\"378282\",\"418079\",\"467723\",\"529701\",\"593423\",\"660824\",\"720285\",\"782490\",\"857608\",\"932638\",\"1013458\",\"1095876\",\"1176059\",\"1249737\",\"1321427\",\"1396438\",\"1480200\",\"1565538\",\"1657929\",\"1736025\",\"1835145\",\"1905157\",\"1975557\",\"2055423\",\"2151792\",\"2239628\",\"2317234\",\"2400776\",\"2471727\",\"2549038\",\"2624602\",\"2708403\",\"2795731\",\"2881140\",\"2955033\",\"3023722\",\"3097229\",\"3172287\",\"3256910\",\"3343777\",\"3427584\",\"3506729\",\"3583055\",\"3662691\",\"3755341\",\"3845718\",\"3348757\",\"3450497\",\"3563966.5\",\"3690067\",\"3830293\",\"3985411\",\"4156335\",\"4343499\",\"4547278\",\"4767698\",\"5004647\",\"5257753\",\"5526500.5\",\"5810193\"],\"mode\":\"lines+markers\"}];\n",
       "            var layout = {\"title\":\"Number of Confirmed Cases over Time\",\"shapes\":[{\"xref\":\"x\",\"x0\":\"5/8/2020\",\"x1\":\"5/8/2020\",\"yref\":\"paper\",\"y0\":\"0\",\"y1\":\"1\",\"line\":{\"color\":\"red\",\"width\":2}}]};\n",
       "            Plotly.newPlot('648b7a77-c671-465f-8b93-09e0c6ef18de', data, layout);\n",
       "        });\r\n",
       "};\r\n",
       "if ((typeof(requirejs) !==  typeof(Function)) || (typeof(requirejs.config) !== typeof(Function))) { \r\n",
       "    var script = document.createElement(\"script\"); \r\n",
       "    script.setAttribute(\"src\", \"https://cdnjs.cloudflare.com/ajax/libs/require.js/2.3.6/require.min.js\"); \r\n",
       "    script.onload = function(){\r\n",
       "        renderPlotly();\r\n",
       "    };\r\n",
       "    document.getElementsByTagName(\"head\")[0].appendChild(script); \r\n",
       "}\r\n",
       "else {\r\n",
       "    renderPlotly();\r\n",
       "}\r\n",
       "</script>"
      ]
     },
     "metadata": {},
     "output_type": "display_data"
    }
   ],
   "source": [
    "var title = \"Number of Confirmed Cases over Time\";\n",
    "var layout = new Layout.Layout();\n",
    "layout.shapes = new List<Graph.Shape>\n",
    "{\n",
    "    new Graph.Shape\n",
    "    {\n",
    "        x0 = predictionStartDate.ToShortDateString(),\n",
    "        x1 = predictionStartDate.ToShortDateString(),\n",
    "        y0 = \"0\",\n",
    "        y1 = \"1\",\n",
    "        xref = 'x',\n",
    "        yref = \"paper\",\n",
    "        line = new Graph.Line() {color = \"red\", width = 2}\n",
    "    }\n",
    "};\n",
    "\n",
    "var chart1 = Chart.Plot(\n",
    "new [] \n",
    "    {\n",
    "        new Graph.Scattergl()\n",
    "        {\n",
    "            x = dates.ToArray(),\n",
    "            y = totalConfirmedCases.ToArray(),\n",
    "            mode = \"lines+markers\"\n",
    "        }\n",
    "    },\n",
    "    layout\n",
    ");\n",
    "\n",
    "chart1.WithTitle(title);\n",
    "display(chart1);"
   ]
  },
  {
   "cell_type": "markdown",
   "metadata": {},
   "source": [
    "### 11. Analysis"
   ]
  },
  {
   "cell_type": "markdown",
   "metadata": {},
   "source": [
    "Comparing the plots before and after prediction, it seems our ML model has performed reasonably well. The red line represents the data on future date(5/8/2020). Beyond this, we predicted for 7 days. Looking at the plot, there is a sudden drop on 5/8/2020 which could be accounted due to insufficient data as we have only 127 records. However we see an increasing trend for next 7 days in alignment with previous confirmed cases. We can extend this model for predicting confirmed cases for any number of days by changing HORIZON constant value. "
   ]
  },
  {
   "cell_type": "markdown",
   "metadata": {},
   "source": [
    "\n",
    "\n"
   ]
  },
  {
   "cell_type": "markdown",
   "metadata": {},
   "source": [
    "## References\n",
    "- [Tutorial: Forecast bike rental service demand with time series analysis and ML.NET](https://docs.microsoft.com/en-us/dotnet/machine-learning/tutorials/time-series-demand-forecasting#evaluate-the-model)\n",
    "- [Time Series Forecasting in ML.NET and Azure ML notebooks](https://github.com/gvashishtha/time-series-mlnet/blob/master/time-series-forecast.ipynb) by Gopal Vashishtha"
   ]
  }
 ],
 "metadata": {
  "kernelspec": {
   "display_name": ".NET (C#)",
   "language": "C#",
   "name": ".net-csharp"
  },
  "language_info": {
   "file_extension": ".cs",
   "mimetype": "text/x-csharp",
   "name": "C#",
   "pygments_lexer": "csharp",
   "version": "8.0"
  },
  "nteract": {
   "version": "0.23.3"
  }
 },
 "nbformat": 4,
 "nbformat_minor": 2
}
